{
 "cells": [
  {
   "cell_type": "markdown",
   "id": "41e05811-beaf-4e42-bc46-b948e97bf102",
   "metadata": {},
   "source": [
    "### VaMSL: Approximate inference of $p(G, \\Theta, C,  \\pi | D)$ for mixtures of (non)linear Gaussian Bayes nets"
   ]
  },
  {
   "cell_type": "markdown",
   "id": "11bdb043-b9d4-4778-a151-e493bdbb5291",
   "metadata": {},
   "source": [
    "VaMSL carries out approximate inference over mixtures of Bayesian networks (BN) using coordinate ascent variational inference (CAVI). We instantiate the CAVI update over BNs with the Differentiable Bayesian Structure Learning (DiBS) ([Lorch et al., 2021](https://proceedings.neurips.cc/paper/2021/hash/ca6ab34959489659f8c3776aaf1f8efd-Abstract.html)) framework and it's Stein Variational gradient descent (SVGD) ([Liu and Wang, 2016](https://proceedings.neurips.cc/paper/2016/hash/b3ba8f1bee1238a2f37603d90b58898d-Abstract.html)) implementation.\n",
    "\n",
    "DiBS leverages a generative model for graphs $p(G | Z)$ conditional on the continuous latent variable $Z$ to enable the use of gradient optimization methods in the (otherwise discrete) graph search accross BNs. Their SVGD implementation enables Bayesian structure learning by yielding a posterior in the BN space $p(G, \\Theta | D)$."
   ]
  },
  {
   "cell_type": "code",
   "execution_count": 1,
   "id": "49418b15-435a-490e-8fde-dbbcdbdc9e37",
   "metadata": {
    "tags": []
   },
   "outputs": [
    {
     "name": "stdout",
     "output_type": "stream",
     "text": [
      "Processing /notebooks/VaMSL/VaMSL_proj\n",
      "  Preparing metadata (setup.py) ... \u001b[?25ldone\n",
      "\u001b[?25hRequirement already satisfied: jax>=0.3.17 in /opt/software/lib/python3.10/site-packages (from vamsl-lib==1.0) (0.4.16)\n",
      "Requirement already satisfied: jaxlib>=0.3.14 in /opt/software/lib/python3.10/site-packages (from vamsl-lib==1.0) (0.4.16.dev20231019)\n",
      "Requirement already satisfied: numpy in /opt/software/lib/python3.10/site-packages (from vamsl-lib==1.0) (1.23.5)\n",
      "Requirement already satisfied: igraph in /opt/software/lib/python3.10/site-packages (from vamsl-lib==1.0) (0.11.3)\n",
      "Requirement already satisfied: imageio in /opt/software/lib/python3.10/site-packages (from vamsl-lib==1.0) (2.31.5)\n",
      "Requirement already satisfied: jupyter in /opt/software/lib/python3.10/site-packages (from vamsl-lib==1.0) (1.1.1)\n",
      "Requirement already satisfied: tqdm in /opt/software/lib/python3.10/site-packages (from vamsl-lib==1.0) (4.65.0)\n",
      "Requirement already satisfied: matplotlib in /opt/software/lib/python3.10/site-packages (from vamsl-lib==1.0) (3.8.2)\n",
      "Requirement already satisfied: scikit-learn in /opt/software/lib/python3.10/site-packages (from vamsl-lib==1.0) (1.3.2)\n",
      "Requirement already satisfied: ml-dtypes>=0.2.0 in /opt/software/lib/python3.10/site-packages (from jax>=0.3.17->vamsl-lib==1.0) (0.2.0)\n",
      "Requirement already satisfied: opt-einsum in /opt/software/lib/python3.10/site-packages (from jax>=0.3.17->vamsl-lib==1.0) (3.3.0)\n",
      "Requirement already satisfied: scipy>=1.7 in /opt/software/lib/python3.10/site-packages (from jax>=0.3.17->vamsl-lib==1.0) (1.11.3)\n",
      "Requirement already satisfied: texttable>=1.6.2 in /opt/software/lib/python3.10/site-packages (from igraph->vamsl-lib==1.0) (1.7.0)\n",
      "Requirement already satisfied: pillow>=8.3.2 in /opt/software/lib/python3.10/site-packages (from imageio->vamsl-lib==1.0) (10.1.0)\n",
      "Requirement already satisfied: notebook in /opt/software/lib/python3.10/site-packages (from jupyter->vamsl-lib==1.0) (7.3.2)\n",
      "Requirement already satisfied: jupyter-console in /opt/software/lib/python3.10/site-packages (from jupyter->vamsl-lib==1.0) (6.6.3)\n",
      "Requirement already satisfied: nbconvert in /opt/software/lib/python3.10/site-packages (from jupyter->vamsl-lib==1.0) (7.11.0)\n",
      "Requirement already satisfied: ipykernel in /opt/software/lib/python3.10/site-packages (from jupyter->vamsl-lib==1.0) (6.26.0)\n",
      "Requirement already satisfied: ipywidgets in /opt/software/lib/python3.10/site-packages (from jupyter->vamsl-lib==1.0) (8.1.1)\n",
      "Requirement already satisfied: jupyterlab in /opt/software/lib/python3.10/site-packages (from jupyter->vamsl-lib==1.0) (4.3.5)\n",
      "Requirement already satisfied: contourpy>=1.0.1 in /opt/software/lib/python3.10/site-packages (from matplotlib->vamsl-lib==1.0) (1.2.0)\n",
      "Requirement already satisfied: cycler>=0.10 in /opt/software/lib/python3.10/site-packages (from matplotlib->vamsl-lib==1.0) (0.12.1)\n",
      "Requirement already satisfied: fonttools>=4.22.0 in /opt/software/lib/python3.10/site-packages (from matplotlib->vamsl-lib==1.0) (4.45.1)\n",
      "Requirement already satisfied: kiwisolver>=1.3.1 in /opt/software/lib/python3.10/site-packages (from matplotlib->vamsl-lib==1.0) (1.4.5)\n",
      "Requirement already satisfied: packaging>=20.0 in /opt/software/lib/python3.10/site-packages (from matplotlib->vamsl-lib==1.0) (23.2)\n",
      "Requirement already satisfied: pyparsing>=2.3.1 in /opt/software/lib/python3.10/site-packages (from matplotlib->vamsl-lib==1.0) (3.1.1)\n",
      "Requirement already satisfied: python-dateutil>=2.7 in /opt/software/lib/python3.10/site-packages (from matplotlib->vamsl-lib==1.0) (2.8.2)\n",
      "Requirement already satisfied: joblib>=1.1.1 in /opt/software/lib/python3.10/site-packages (from scikit-learn->vamsl-lib==1.0) (1.3.2)\n",
      "Requirement already satisfied: threadpoolctl>=2.0.0 in /opt/software/lib/python3.10/site-packages (from scikit-learn->vamsl-lib==1.0) (3.2.0)\n",
      "Requirement already satisfied: six>=1.5 in /opt/software/lib/python3.10/site-packages (from python-dateutil>=2.7->matplotlib->vamsl-lib==1.0) (1.16.0)\n",
      "Requirement already satisfied: comm>=0.1.1 in /opt/software/lib/python3.10/site-packages (from ipykernel->jupyter->vamsl-lib==1.0) (0.1.4)\n",
      "Requirement already satisfied: debugpy>=1.6.5 in /opt/software/lib/python3.10/site-packages (from ipykernel->jupyter->vamsl-lib==1.0) (1.8.0)\n",
      "Requirement already satisfied: ipython>=7.23.1 in /opt/software/lib/python3.10/site-packages (from ipykernel->jupyter->vamsl-lib==1.0) (8.17.2)\n",
      "Requirement already satisfied: jupyter-client>=6.1.12 in /opt/software/lib/python3.10/site-packages (from ipykernel->jupyter->vamsl-lib==1.0) (8.6.0)\n",
      "Requirement already satisfied: jupyter-core!=5.0.*,>=4.12 in /opt/software/lib/python3.10/site-packages (from ipykernel->jupyter->vamsl-lib==1.0) (5.5.0)\n",
      "Requirement already satisfied: matplotlib-inline>=0.1 in /opt/software/lib/python3.10/site-packages (from ipykernel->jupyter->vamsl-lib==1.0) (0.1.6)\n",
      "Requirement already satisfied: nest-asyncio in /opt/software/lib/python3.10/site-packages (from ipykernel->jupyter->vamsl-lib==1.0) (1.5.8)\n",
      "Requirement already satisfied: psutil in /opt/software/lib/python3.10/site-packages (from ipykernel->jupyter->vamsl-lib==1.0) (5.9.5)\n",
      "Requirement already satisfied: pyzmq>=20 in /opt/software/lib/python3.10/site-packages (from ipykernel->jupyter->vamsl-lib==1.0) (25.1.1)\n",
      "Requirement already satisfied: tornado>=6.1 in /opt/software/lib/python3.10/site-packages (from ipykernel->jupyter->vamsl-lib==1.0) (6.3.3)\n",
      "Requirement already satisfied: traitlets>=5.4.0 in /opt/software/lib/python3.10/site-packages (from ipykernel->jupyter->vamsl-lib==1.0) (5.13.0)\n",
      "Requirement already satisfied: widgetsnbextension~=4.0.9 in /opt/software/lib/python3.10/site-packages (from ipywidgets->jupyter->vamsl-lib==1.0) (4.0.9)\n",
      "Requirement already satisfied: jupyterlab-widgets~=3.0.9 in /opt/software/lib/python3.10/site-packages (from ipywidgets->jupyter->vamsl-lib==1.0) (3.0.9)\n",
      "Requirement already satisfied: prompt-toolkit>=3.0.30 in /opt/software/lib/python3.10/site-packages (from jupyter-console->jupyter->vamsl-lib==1.0) (3.0.41)\n",
      "Requirement already satisfied: pygments in /opt/software/lib/python3.10/site-packages (from jupyter-console->jupyter->vamsl-lib==1.0) (2.17.2)\n",
      "Requirement already satisfied: async-lru>=1.0.0 in /opt/software/lib/python3.10/site-packages (from jupyterlab->jupyter->vamsl-lib==1.0) (2.0.4)\n",
      "Requirement already satisfied: httpx>=0.25.0 in /opt/software/lib/python3.10/site-packages (from jupyterlab->jupyter->vamsl-lib==1.0) (0.26.0)\n",
      "Requirement already satisfied: jinja2>=3.0.3 in /opt/software/lib/python3.10/site-packages (from jupyterlab->jupyter->vamsl-lib==1.0) (3.1.2)\n",
      "Requirement already satisfied: jupyter-lsp>=2.0.0 in /opt/software/lib/python3.10/site-packages (from jupyterlab->jupyter->vamsl-lib==1.0) (2.2.0)\n",
      "Requirement already satisfied: jupyter-server<3,>=2.4.0 in /opt/software/lib/python3.10/site-packages (from jupyterlab->jupyter->vamsl-lib==1.0) (2.10.1)\n",
      "Requirement already satisfied: jupyterlab-server<3,>=2.27.1 in /opt/software/lib/python3.10/site-packages (from jupyterlab->jupyter->vamsl-lib==1.0) (2.27.3)\n",
      "Requirement already satisfied: notebook-shim>=0.2 in /opt/software/lib/python3.10/site-packages (from jupyterlab->jupyter->vamsl-lib==1.0) (0.2.3)\n",
      "Requirement already satisfied: setuptools>=40.8.0 in /opt/software/lib/python3.10/site-packages (from jupyterlab->jupyter->vamsl-lib==1.0) (68.0.0)\n",
      "Requirement already satisfied: tomli>=1.2.2 in /opt/software/lib/python3.10/site-packages (from jupyterlab->jupyter->vamsl-lib==1.0) (2.0.1)\n",
      "Requirement already satisfied: beautifulsoup4 in /opt/software/lib/python3.10/site-packages (from nbconvert->jupyter->vamsl-lib==1.0) (4.12.2)\n",
      "Requirement already satisfied: bleach!=5.0.0 in /opt/software/lib/python3.10/site-packages (from nbconvert->jupyter->vamsl-lib==1.0) (6.1.0)\n",
      "Requirement already satisfied: defusedxml in /opt/software/lib/python3.10/site-packages (from nbconvert->jupyter->vamsl-lib==1.0) (0.7.1)\n",
      "Requirement already satisfied: jupyterlab-pygments in /opt/software/lib/python3.10/site-packages (from nbconvert->jupyter->vamsl-lib==1.0) (0.3.0)\n",
      "Requirement already satisfied: markupsafe>=2.0 in /opt/software/lib/python3.10/site-packages (from nbconvert->jupyter->vamsl-lib==1.0) (2.1.3)\n",
      "Requirement already satisfied: mistune<4,>=2.0.3 in /opt/software/lib/python3.10/site-packages (from nbconvert->jupyter->vamsl-lib==1.0) (3.0.2)\n",
      "Requirement already satisfied: nbclient>=0.5.0 in /opt/software/lib/python3.10/site-packages (from nbconvert->jupyter->vamsl-lib==1.0) (0.8.0)\n",
      "Requirement already satisfied: nbformat>=5.7 in /opt/software/lib/python3.10/site-packages (from nbconvert->jupyter->vamsl-lib==1.0) (5.9.2)\n",
      "Requirement already satisfied: pandocfilters>=1.4.1 in /opt/software/lib/python3.10/site-packages (from nbconvert->jupyter->vamsl-lib==1.0) (1.5.0)\n",
      "Requirement already satisfied: tinycss2 in /opt/software/lib/python3.10/site-packages (from nbconvert->jupyter->vamsl-lib==1.0) (1.2.1)\n",
      "Requirement already satisfied: typing-extensions>=4.0.0 in /opt/software/lib/python3.10/site-packages (from async-lru>=1.0.0->jupyterlab->jupyter->vamsl-lib==1.0) (4.8.0)\n",
      "Requirement already satisfied: webencodings in /opt/software/lib/python3.10/site-packages (from bleach!=5.0.0->nbconvert->jupyter->vamsl-lib==1.0) (0.5.1)\n",
      "Requirement already satisfied: anyio in /opt/software/lib/python3.10/site-packages (from httpx>=0.25.0->jupyterlab->jupyter->vamsl-lib==1.0) (4.0.0)\n",
      "Requirement already satisfied: certifi in /opt/software/lib/python3.10/site-packages (from httpx>=0.25.0->jupyterlab->jupyter->vamsl-lib==1.0) (2024.8.30)\n",
      "Requirement already satisfied: httpcore==1.* in /opt/software/lib/python3.10/site-packages (from httpx>=0.25.0->jupyterlab->jupyter->vamsl-lib==1.0) (1.0.2)\n",
      "Requirement already satisfied: idna in /opt/software/lib/python3.10/site-packages (from httpx>=0.25.0->jupyterlab->jupyter->vamsl-lib==1.0) (3.4)\n",
      "Requirement already satisfied: sniffio in /opt/software/lib/python3.10/site-packages (from httpx>=0.25.0->jupyterlab->jupyter->vamsl-lib==1.0) (1.3.0)\n",
      "Requirement already satisfied: h11<0.15,>=0.13 in /opt/software/lib/python3.10/site-packages (from httpcore==1.*->httpx>=0.25.0->jupyterlab->jupyter->vamsl-lib==1.0) (0.14.0)\n",
      "Requirement already satisfied: decorator in /opt/software/lib/python3.10/site-packages (from ipython>=7.23.1->ipykernel->jupyter->vamsl-lib==1.0) (5.1.1)\n",
      "Requirement already satisfied: jedi>=0.16 in /opt/software/lib/python3.10/site-packages (from ipython>=7.23.1->ipykernel->jupyter->vamsl-lib==1.0) (0.19.1)\n",
      "Requirement already satisfied: stack-data in /opt/software/lib/python3.10/site-packages (from ipython>=7.23.1->ipykernel->jupyter->vamsl-lib==1.0) (0.6.2)\n",
      "Requirement already satisfied: exceptiongroup in /opt/software/lib/python3.10/site-packages (from ipython>=7.23.1->ipykernel->jupyter->vamsl-lib==1.0) (1.2.0)\n",
      "Requirement already satisfied: pexpect>4.3 in /opt/software/lib/python3.10/site-packages (from ipython>=7.23.1->ipykernel->jupyter->vamsl-lib==1.0) (4.8.0)\n",
      "Requirement already satisfied: platformdirs>=2.5 in /opt/software/lib/python3.10/site-packages (from jupyter-core!=5.0.*,>=4.12->ipykernel->jupyter->vamsl-lib==1.0) (4.0.0)\n",
      "Requirement already satisfied: argon2-cffi in /opt/software/lib/python3.10/site-packages (from jupyter-server<3,>=2.4.0->jupyterlab->jupyter->vamsl-lib==1.0) (23.1.0)\n",
      "Requirement already satisfied: jupyter-events>=0.9.0 in /opt/software/lib/python3.10/site-packages (from jupyter-server<3,>=2.4.0->jupyterlab->jupyter->vamsl-lib==1.0) (0.9.0)\n",
      "Requirement already satisfied: jupyter-server-terminals in /opt/software/lib/python3.10/site-packages (from jupyter-server<3,>=2.4.0->jupyterlab->jupyter->vamsl-lib==1.0) (0.4.4)\n",
      "Requirement already satisfied: overrides in /opt/software/lib/python3.10/site-packages (from jupyter-server<3,>=2.4.0->jupyterlab->jupyter->vamsl-lib==1.0) (7.4.0)\n",
      "Requirement already satisfied: prometheus-client in /opt/software/lib/python3.10/site-packages (from jupyter-server<3,>=2.4.0->jupyterlab->jupyter->vamsl-lib==1.0) (0.19.0)\n",
      "Requirement already satisfied: send2trash>=1.8.2 in /opt/software/lib/python3.10/site-packages (from jupyter-server<3,>=2.4.0->jupyterlab->jupyter->vamsl-lib==1.0) (1.8.2)\n",
      "Requirement already satisfied: terminado>=0.8.3 in /opt/software/lib/python3.10/site-packages (from jupyter-server<3,>=2.4.0->jupyterlab->jupyter->vamsl-lib==1.0) (0.18.0)\n",
      "Requirement already satisfied: websocket-client in /opt/software/lib/python3.10/site-packages (from jupyter-server<3,>=2.4.0->jupyterlab->jupyter->vamsl-lib==1.0) (1.6.4)\n",
      "Requirement already satisfied: babel>=2.10 in /opt/software/lib/python3.10/site-packages (from jupyterlab-server<3,>=2.27.1->jupyterlab->jupyter->vamsl-lib==1.0) (2.13.1)\n",
      "Requirement already satisfied: json5>=0.9.0 in /opt/software/lib/python3.10/site-packages (from jupyterlab-server<3,>=2.27.1->jupyterlab->jupyter->vamsl-lib==1.0) (0.9.14)\n",
      "Requirement already satisfied: jsonschema>=4.18.0 in /opt/software/lib/python3.10/site-packages (from jupyterlab-server<3,>=2.27.1->jupyterlab->jupyter->vamsl-lib==1.0) (4.20.0)\n",
      "Requirement already satisfied: requests>=2.31 in /opt/software/lib/python3.10/site-packages (from jupyterlab-server<3,>=2.27.1->jupyterlab->jupyter->vamsl-lib==1.0) (2.31.0)\n",
      "Requirement already satisfied: fastjsonschema in /opt/software/lib/python3.10/site-packages (from nbformat>=5.7->nbconvert->jupyter->vamsl-lib==1.0) (2.19.0)\n",
      "Requirement already satisfied: wcwidth in /opt/software/lib/python3.10/site-packages (from prompt-toolkit>=3.0.30->jupyter-console->jupyter->vamsl-lib==1.0) (0.2.12)\n",
      "Requirement already satisfied: soupsieve>1.2 in /opt/software/lib/python3.10/site-packages (from beautifulsoup4->nbconvert->jupyter->vamsl-lib==1.0) (2.5)\n",
      "Requirement already satisfied: parso<0.9.0,>=0.8.3 in /opt/software/lib/python3.10/site-packages (from jedi>=0.16->ipython>=7.23.1->ipykernel->jupyter->vamsl-lib==1.0) (0.8.3)\n",
      "Requirement already satisfied: attrs>=22.2.0 in /opt/software/lib/python3.10/site-packages (from jsonschema>=4.18.0->jupyterlab-server<3,>=2.27.1->jupyterlab->jupyter->vamsl-lib==1.0) (23.1.0)\n",
      "Requirement already satisfied: jsonschema-specifications>=2023.03.6 in /opt/software/lib/python3.10/site-packages (from jsonschema>=4.18.0->jupyterlab-server<3,>=2.27.1->jupyterlab->jupyter->vamsl-lib==1.0) (2023.11.1)\n",
      "Requirement already satisfied: referencing>=0.28.4 in /opt/software/lib/python3.10/site-packages (from jsonschema>=4.18.0->jupyterlab-server<3,>=2.27.1->jupyterlab->jupyter->vamsl-lib==1.0) (0.31.0)\n",
      "Requirement already satisfied: rpds-py>=0.7.1 in /opt/software/lib/python3.10/site-packages (from jsonschema>=4.18.0->jupyterlab-server<3,>=2.27.1->jupyterlab->jupyter->vamsl-lib==1.0) (0.13.1)\n",
      "Requirement already satisfied: python-json-logger>=2.0.4 in /opt/software/lib/python3.10/site-packages (from jupyter-events>=0.9.0->jupyter-server<3,>=2.4.0->jupyterlab->jupyter->vamsl-lib==1.0) (2.0.7)\n",
      "Requirement already satisfied: pyyaml>=5.3 in /opt/software/lib/python3.10/site-packages (from jupyter-events>=0.9.0->jupyter-server<3,>=2.4.0->jupyterlab->jupyter->vamsl-lib==1.0) (6.0.1)\n",
      "Requirement already satisfied: rfc3339-validator in /opt/software/lib/python3.10/site-packages (from jupyter-events>=0.9.0->jupyter-server<3,>=2.4.0->jupyterlab->jupyter->vamsl-lib==1.0) (0.1.4)\n",
      "Requirement already satisfied: rfc3986-validator>=0.1.1 in /opt/software/lib/python3.10/site-packages (from jupyter-events>=0.9.0->jupyter-server<3,>=2.4.0->jupyterlab->jupyter->vamsl-lib==1.0) (0.1.1)\n",
      "Requirement already satisfied: ptyprocess>=0.5 in /opt/software/lib/python3.10/site-packages (from pexpect>4.3->ipython>=7.23.1->ipykernel->jupyter->vamsl-lib==1.0) (0.7.0)\n",
      "Requirement already satisfied: charset-normalizer<4,>=2 in /opt/software/lib/python3.10/site-packages (from requests>=2.31->jupyterlab-server<3,>=2.27.1->jupyterlab->jupyter->vamsl-lib==1.0) (3.1.0)\n",
      "Requirement already satisfied: urllib3<3,>=1.21.1 in /opt/software/lib/python3.10/site-packages (from requests>=2.31->jupyterlab-server<3,>=2.27.1->jupyterlab->jupyter->vamsl-lib==1.0) (2.0.3)\n",
      "Requirement already satisfied: argon2-cffi-bindings in /opt/software/lib/python3.10/site-packages (from argon2-cffi->jupyter-server<3,>=2.4.0->jupyterlab->jupyter->vamsl-lib==1.0) (21.2.0)\n",
      "Requirement already satisfied: executing>=1.2.0 in /opt/software/lib/python3.10/site-packages (from stack-data->ipython>=7.23.1->ipykernel->jupyter->vamsl-lib==1.0) (2.0.1)\n",
      "Requirement already satisfied: asttokens>=2.1.0 in /opt/software/lib/python3.10/site-packages (from stack-data->ipython>=7.23.1->ipykernel->jupyter->vamsl-lib==1.0) (2.4.1)\n",
      "Requirement already satisfied: pure-eval in /opt/software/lib/python3.10/site-packages (from stack-data->ipython>=7.23.1->ipykernel->jupyter->vamsl-lib==1.0) (0.2.2)\n",
      "Requirement already satisfied: fqdn in /opt/software/lib/python3.10/site-packages (from jsonschema>=4.18.0->jupyterlab-server<3,>=2.27.1->jupyterlab->jupyter->vamsl-lib==1.0) (1.5.1)\n",
      "Requirement already satisfied: isoduration in /opt/software/lib/python3.10/site-packages (from jsonschema>=4.18.0->jupyterlab-server<3,>=2.27.1->jupyterlab->jupyter->vamsl-lib==1.0) (20.11.0)\n",
      "Requirement already satisfied: jsonpointer>1.13 in /opt/software/lib/python3.10/site-packages (from jsonschema>=4.18.0->jupyterlab-server<3,>=2.27.1->jupyterlab->jupyter->vamsl-lib==1.0) (2.4)\n",
      "Requirement already satisfied: uri-template in /opt/software/lib/python3.10/site-packages (from jsonschema>=4.18.0->jupyterlab-server<3,>=2.27.1->jupyterlab->jupyter->vamsl-lib==1.0) (1.3.0)\n",
      "Requirement already satisfied: webcolors>=1.11 in /opt/software/lib/python3.10/site-packages (from jsonschema>=4.18.0->jupyterlab-server<3,>=2.27.1->jupyterlab->jupyter->vamsl-lib==1.0) (1.13)\n",
      "Requirement already satisfied: cffi>=1.0.1 in /opt/software/lib/python3.10/site-packages (from argon2-cffi-bindings->argon2-cffi->jupyter-server<3,>=2.4.0->jupyterlab->jupyter->vamsl-lib==1.0) (1.15.1)\n",
      "Requirement already satisfied: pycparser in /opt/software/lib/python3.10/site-packages (from cffi>=1.0.1->argon2-cffi-bindings->argon2-cffi->jupyter-server<3,>=2.4.0->jupyterlab->jupyter->vamsl-lib==1.0) (2.21)\n",
      "Requirement already satisfied: arrow>=0.15.0 in /opt/software/lib/python3.10/site-packages (from isoduration->jsonschema>=4.18.0->jupyterlab-server<3,>=2.27.1->jupyterlab->jupyter->vamsl-lib==1.0) (1.3.0)\n",
      "Requirement already satisfied: types-python-dateutil>=2.8.10 in /opt/software/lib/python3.10/site-packages (from arrow>=0.15.0->isoduration->jsonschema>=4.18.0->jupyterlab-server<3,>=2.27.1->jupyterlab->jupyter->vamsl-lib==1.0) (2.8.19.14)\n",
      "Building wheels for collected packages: vamsl-lib\n",
      "  Building wheel for vamsl-lib (setup.py) ... \u001b[?25ldone\n",
      "\u001b[?25h  Created wheel for vamsl-lib: filename=vamsl_lib-1.0-py3-none-any.whl size=51331 sha256=74e5e69d2b5ad47113a3e86dd6029b73a4c54905584cec254c59f6a3c4f9f7c3\n",
      "  Stored in directory: /tmp/pip-ephem-wheel-cache-fm41vzxe/wheels/c3/c1/d4/3d27c46fa93054064e8c77482810837b196d36b38802b832ca\n",
      "Successfully built vamsl-lib\n",
      "Installing collected packages: vamsl-lib\n",
      "  Attempting uninstall: vamsl-lib\n",
      "    Found existing installation: vamsl-lib 1.0\n",
      "    Uninstalling vamsl-lib-1.0:\n",
      "      Successfully uninstalled vamsl-lib-1.0\n",
      "Successfully installed vamsl-lib-1.0\n",
      "Note: you may need to restart the kernel to use updated packages.\n"
     ]
    },
    {
     "name": "stderr",
     "output_type": "stream",
     "text": [
      "WARNING: All log messages before absl::InitializeLog() is called are written to STDERR\n",
      "I0000 00:00:1740488707.237439    1427 tfrt_cpu_pjrt_client.cc:349] TfrtCpuClient created.\n",
      "No GPU/TPU found, falling back to CPU. (Set TF_CPP_MIN_LOG_LEVEL=0 and rerun for more info.)\n"
     ]
    },
    {
     "name": "stdout",
     "output_type": "stream",
     "text": [
      "JAX backend: cpu\n"
     ]
    }
   ],
   "source": [
    "%pip install ../. \n",
    "import jax\n",
    "import jax.numpy as jnp\n",
    "import jax.random as random\n",
    "\n",
    "print(f\"JAX backend: {jax.default_backend()}\")\n",
    "key=random.PRNGKey(123)"
   ]
  },
  {
   "cell_type": "markdown",
   "id": "dd98f74d-e396-45d8-8d5f-285d553e9817",
   "metadata": {},
   "source": [
    "### Define the mixture model.\n",
    "\n",
    "First we define the mixture of the observations as well as the component BNs in the mixture model. \n",
    "\n",
    "The elements of `mixing rate` defines the proportion of the total number of observations that are generated from each component. The entries should sum up to 1. The number of components `n_components` in the mixture model is taken to be the number indicated by the mixing rates, but can be set to a different value if so desired.\n",
    "\n",
    "Each Gaussain BN has `n_vars` variables and has either a linear or nonlinear mean function depending on `struct_eq_type`. The nonlinear functions are modelled using shallow NNs. The random graph prior is either set to `er` (Erdos-Renyi) or `sf` (scale-free) graphs. "
   ]
  },
  {
   "cell_type": "code",
   "execution_count": 46,
   "id": "27f5b263-22be-4284-8a2c-ef389863b904",
   "metadata": {
    "tags": []
   },
   "outputs": [],
   "source": [
    "# Set random seed\n",
    "key = random.PRNGKey((seed:=523))\n",
    "\n",
    "# Data settings\n",
    "n_observations = 400 # total number of observations\n",
    "mixing_rate = jnp.array([0.5,0.5]) # mixing rate of observations (also defines number of components)\n",
    "#mixing_rate = 1/(K:=5) * jnp.ones(K) # uniform mixing rates for K components\n",
    "\n",
    "# BN settings\n",
    "n_vars = 20 # number of variables in each component BN\n",
    "struct_eq_type = 'linear' # BN function class: 'linear' or 'nonlinear'\n",
    "graph_type = 'sf' # Random graph structure: 'sf' (scale-free) or 'er' (Erdos-Renyi)\n",
    "\n",
    "# Derived variables\n",
    "n_components = mixing_rate.shape[0]\n",
    "linear = True if struct_eq_type == 'linear' else False"
   ]
  },
  {
   "cell_type": "markdown",
   "id": "ec847fcc-3cd2-4a8f-a0ff-3e049fdccb66",
   "metadata": {},
   "source": [
    "### Generate ground truth BNs and synthetic data.\n",
    "\n",
    "We generate synthetic data from ground truth BNs as specified above. `x_ind` is an observation array with {n_observations, n_vars+1}, where the last column consits of ground truth indicators for the corresponding ground truth BN. The varaibles `lik`, `component_lik`, and `graph_model` define likelihood models and the grpah prior model."
   ]
  },
  {
   "cell_type": "code",
   "execution_count": 47,
   "id": "75e590ef-cc46-4001-9348-311fc26760ae",
   "metadata": {
    "tags": []
   },
   "outputs": [
    {
     "data": {
      "image/png": "[encoded data removed]",
      "text/plain": [
       "<Figure size 800x400 with 2 Axes>"
      ]
     },
     "metadata": {},
     "output_type": "display_data"
    },
    {
     "name": "stdout",
     "output_type": "stream",
     "text": [
      "Observations shape:\n",
      "x: (400, 20)\n",
      "Indicators and counts:\n",
      "(Array([0., 1.], dtype=float32), Array([200, 200], dtype=int32))\n"
     ]
    }
   ],
   "source": [
    "from vamsl.target import make_mixture_model\n",
    "from vamsl.utils import visualize_ground_truth, visualize_ground_truths\n",
    "\n",
    "key, subk = random.split(key)\n",
    "# Generate data (with indicators for component assignment), ground truth BNs, likelihood models, and random graph model\n",
    "x_ind, ground_truth_graphs, ground_truth_thetas, lik, component_lik, graph_model = make_mixture_model(key=subk,\n",
    "                                                                                                      mixing_rate=mixing_rate,\n",
    "                                                                                                      n_vars=n_vars,\n",
    "                                                                                                      n_observations=n_observations,\n",
    "                                                                                                      graph_type=graph_type,\n",
    "                                                                                                      struct_eq_type=struct_eq_type)\n",
    "visualize_ground_truths(ground_truth_graphs)\n",
    "#print(ground_truth_graphs)\n",
    "# Remove indicator vector from data\n",
    "x = x_ind[:,0:n_vars] # [n_observations, n_vars]\n",
    "print('Observations shape:')\n",
    "print('x: ' + str(x.shape))\n",
    "print('Indicators and counts:')\n",
    "print(jnp.unique(x_ind[:,n_vars], return_counts=True))"
   ]
  },
  {
   "cell_type": "code",
   "execution_count": 48,
   "id": "ab34aa45-c9ab-442b-840e-fc1d5a04fa73",
   "metadata": {
    "tags": []
   },
   "outputs": [
    {
     "name": "stdout",
     "output_type": "stream",
     "text": [
      "Initialization 0\n",
      "Initialization converged: True\n",
      "\n",
      "VGMM MAP clustering:\n",
      " [[200   0]\n",
      " [  0 200]] \n",
      "\n",
      "Percentage missclassified:  0.0 %\n"
     ]
    }
   ],
   "source": [
    "import numpy as np\n",
    "from sklearn.mixture import BayesianGaussianMixture\n",
    "from sklearn.metrics import confusion_matrix\n",
    "from scipy.optimize import linear_sum_assignment\n",
    "\n",
    "if  n_observations > 0:\n",
    "    n_components = n_components\n",
    "    random_state = seed\n",
    "\n",
    "    labels = BayesianGaussianMixture(n_components=n_components, random_state=random_state, init_params='random_from_data', verbose=1).fit_predict(x)\n",
    "    VGMM_assignments = confusion_matrix(x_ind[:,n_vars], labels)[:,linear_sum_assignment(confusion_matrix(x_ind[:,n_vars], labels), maximize=True)[1]]\n",
    "    print(\"\\nVGMM MAP clustering:\\n\", VGMM_assignments, '\\n')\n",
    "    print('Percentage missclassified: ', 100*jnp.sum(VGMM_assignments[~jnp.eye(n_components, dtype=bool)])/n_observations, '%') # mask diagonal with logical not of identity matrix"
   ]
  },
  {
   "cell_type": "markdown",
   "id": "0613dbe4-1b5d-4bc7-b58e-1fd5e864a620",
   "metadata": {},
   "source": [
    "### Create VaMSL.\n",
    "\n",
    "We create the VaMSL model and intilitialize it with `n_particles` randomly sampled particles latent $Z$ and $\\Theta $ particles as well as uniform distributions over responsibilities and weights. If one wants to specify specific prior responsibilities and weights, they can be fed to `initialize_posteriors` as named variables `init_q_c` and `alphas`, of shapes `(n_observations, n_components)` and `(n_components,)` respectively. "
   ]
  },
  {
   "cell_type": "code",
   "execution_count": 35,
   "id": "517fe0cf-1ac8-4cbe-8d0e-37432c3c2566",
   "metadata": {
    "tags": []
   },
   "outputs": [
    {
     "name": "stdout",
     "output_type": "stream",
     "text": [
      "Posterior shapes:\n",
      "q_z:     (2, 3, 5, 5, 2)\n",
      "q_theta: (2, 3, 5, 5)\n",
      "log_q_c: (400, 2)\n",
      "q_pi:    (2,)\n"
     ]
    }
   ],
   "source": [
    "from vamsl.inference import VaMSL\n",
    "\n",
    "# Create VaMSL and initialize posteriors (remove indicator vecor from dataset)\n",
    "vamsl = VaMSL(x=x, graph_model=graph_model, mixture_likelihood_model=lik, component_likelihood_model=component_lik)\n",
    "key, subk = random.split(key)\n",
    "vamsl.initialize_posteriors(key=subk, n_components=n_components, n_particles=3, linear=linear)\n",
    "\n",
    "print('Posterior shapes:')\n",
    "posts = vamsl.get_posteriors()\n",
    "print('q_z:     ' + str(posts[0].shape)) # [n_components, n_particls, d, l, 2]\n",
    "print('q_theta: ' + str(posts[1].shape)) if linear else print('q_theta: ' + str(len(posts[1]))) # leading dim of n_components\n",
    "print('log_q_c: ' + str(posts[2].shape)) # [n_observations, n_components]\n",
    "print('q_pi:    ' + str(posts[3].shape)) # [n_components,]"
   ]
  },
  {
   "cell_type": "code",
   "execution_count": 37,
   "id": "23acfd37-30ff-4af4-8a61-ff07b10737f4",
   "metadata": {
    "tags": []
   },
   "outputs": [
    {
     "data": {
      "text/plain": [
       "Array([[[0.001, 0.001, 0.999, 0.001, 0.999],\n",
       "        [0.001, 0.001, 0.999, 0.001, 0.999],\n",
       "        [0.001, 0.001, 0.001, 0.001, 0.999],\n",
       "        [0.001, 0.001, 0.999, 0.001, 0.999],\n",
       "        [0.001, 0.001, 0.001, 0.001, 0.001]],\n",
       "\n",
       "       [[0.001, 0.001, 0.001, 0.001, 0.001],\n",
       "        [0.001, 0.001, 0.001, 0.999, 0.999],\n",
       "        [0.999, 0.001, 0.001, 0.001, 0.999],\n",
       "        [0.999, 0.001, 0.999, 0.001, 0.001],\n",
       "        [0.999, 0.001, 0.001, 0.001, 0.001]]],      dtype=float32, weak_type=True)"
      ]
     },
     "execution_count": 37,
     "metadata": {},
     "output_type": "execute_result"
    }
   ],
   "source": [
    "#key, subk = random.split(key)\n",
    "#_, false_graphs, _, _, _, _ = make_mixture_model(key=subk,mixing_rate=mixing_rate,n_vars=n_vars,n_observations=n_observations,graph_type=graph_type,struct_eq_type=struct_eq_type)\n",
    "\n",
    "#E = jnp.ones((n_components, n_vars, n_vars)).at[i,j,...].set(1.0) # supply individual constraints \n",
    "E = jnp.where(ground_truth_graphs, 0.999, 0.001) # supply correct soft constraints \n",
    "#E = ground_truth_graphs # supply correct hard constraints\n",
    "\n",
    "#print(false_graphs)\n",
    "vamsl.set_E(E)\n",
    "vamsl.get_E()\n",
    "#vamsl.elicitation_probs_to_hard_constraints(vamsl.get_E()) # check hard constraints encoding\n",
    "#vamsl.set_posteriors(q_z=vamsl.get_posteriors()[0], q_theta=jnp.array([[ground_truth_thetas[i] for j in range(7)] for i in range(n_components)]), log_q_c=vamsl.get_posteriors()[2], q_pi=1+jax.nn.one_hot(x_ind[:,n_vars], n_components).sum(axis=0))"
   ]
  },
  {
   "cell_type": "code",
   "execution_count": 38,
   "id": "ff147d92-662d-4fd7-a359-662df8066749",
   "metadata": {
    "tags": []
   },
   "outputs": [
    {
     "data": {
      "image/png": "[encoded data removed]",
      "text/plain": [
       "<Figure size 1750x250 with 7 Axes>"
      ]
     },
     "metadata": {},
     "output_type": "display_data"
    },
    {
     "name": "stdout",
     "output_type": "stream",
     "text": [
      "Component   1 | iteration 1000 | alpha   50.0 | beta 1000.0 | #cyclic   0\n"
     ]
    },
    {
     "data": {
      "image/png": "[encoded data removed]",
      "text/plain": [
       "<Figure size 1750x250 with 7 Axes>"
      ]
     },
     "metadata": {},
     "output_type": "display_data"
    },
    {
     "name": "stdout",
     "output_type": "stream",
     "text": [
      "Component   2 | iteration 1000 | alpha   50.0 | beta 1000.0 | #cyclic   0\n"
     ]
    }
   ],
   "source": [
    "from sklearn.metrics import confusion_matrix\n",
    "\n",
    "# CAVI and SVGD vars\n",
    "n_cavi_updates, steps, callback_every = 10, 100, 100\n",
    "\n",
    "# CAVI-loop\n",
    "for cavi_update in range(n_cavi_updates):\n",
    "    key, subk = random.split(key)\n",
    "    # Optimize q(Z, \\Theta)\n",
    "    vamsl.update_particle_posteriors(key=subk, steps=steps, callback_every=callback_every,\n",
    "                                     callback=vamsl.visualize_callback(save_path='./dibs_fit_pics/'), linear=linear)\n",
    "\n",
    "    # Update to optimal q(c) and q(\\pi)\n",
    "    vamsl.update_responsibilities_and_weights()\n",
    "    print(f'CAVI update number {cavi_update+1}/{n_cavi_updates}')\n",
    "    \n",
    "    # Print current clustering performance\n",
    "    order = vamsl.identify_MAP_classification_ordering(ground_truth_indicator=x_ind[:,n_vars])\n",
    "    y_pred = [order[k] for k in [jnp.argmax(c_i) for c_i in vamsl.get_posteriors()[2]]]\n",
    "    print('MAP clustering: \\n', confusion_matrix(x_ind[:,n_vars], y_pred))\n",
    "    \n",
    "# Final CAVI update with more SVGD steps to ensure annealing unto acyclic graphs\n",
    "key, subk = random.split(key)\n",
    "vamsl.update_particle_posteriors(key=subk, steps=1000, callback_every=200, callback=vamsl.visualize_callback(), linear=linear)\n",
    "vamsl.update_responsibilities_and_weights()"
   ]
  },
  {
   "cell_type": "markdown",
   "id": "c5047901-675d-4fde-98c2-98ed805d1a8d",
   "metadata": {},
   "source": [
    "### Get order of components with respect to ground truths\n",
    "\n",
    "We identify an ordering of the components with respect to the ground truth BNs by identifying which perumutation of indeces results in the highest classification accuracy."
   ]
  },
  {
   "cell_type": "code",
   "execution_count": 39,
   "id": "67161b7a-0627-400e-8bc7-047d03b7dfa8",
   "metadata": {
    "tags": []
   },
   "outputs": [],
   "source": [
    "vamsl.update_responsibilities_and_weights()"
   ]
  },
  {
   "cell_type": "code",
   "execution_count": 40,
   "id": "fd9f1187-a5d7-49b2-a598-2ab6ab762905",
   "metadata": {
    "tags": []
   },
   "outputs": [
    {
     "name": "stdout",
     "output_type": "stream",
     "text": [
      "Optimal order:\n",
      "[1 0]\n"
     ]
    }
   ],
   "source": [
    "# Compute optimal ordering with respect to MAP classification accuracy\n",
    "order = vamsl.identify_MAP_classification_ordering(ground_truth_indicator=x_ind[:,n_vars])\n",
    "print('Optimal order:')\n",
    "print(order)"
   ]
  },
  {
   "cell_type": "markdown",
   "id": "2c758de4-0ab2-4208-bd54-6a90f1d85291",
   "metadata": {},
   "source": [
    "### Evaluate classification performance"
   ]
  },
  {
   "cell_type": "code",
   "execution_count": 41,
   "id": "28c53253-30a0-41d3-b2e3-3131af5a5024",
   "metadata": {
    "tags": []
   },
   "outputs": [
    {
     "name": "stdout",
     "output_type": "stream",
     "text": [
      "Sums of responsibilities:\n",
      "[336.1689    63.831142]\n",
      "Average entropy of responsibilities:\n",
      "-0.054566175\n",
      "Classification report:\n",
      "              precision    recall  f1-score   support\n",
      "\n",
      " Component 1       1.00      0.29      0.46       200\n",
      " Component 2       0.59      1.00      0.74       200\n",
      "\n",
      "    accuracy                           0.65       400\n",
      "   macro avg       0.79      0.65      0.60       400\n",
      "weighted avg       0.79      0.65      0.60       400\n",
      "\n",
      "Ordered confusion matrix:\n",
      " [[ 59 141]\n",
      " [  0 200]]\n",
      "Percentage missclassified:  35.25 %\n"
     ]
    }
   ],
   "source": [
    "from sklearn.metrics import classification_report, confusion_matrix\n",
    "\n",
    "print('Sums of responsibilities:')\n",
    "print(jnp.sum(jnp.exp(vamsl.get_posteriors()[2]), axis=0))\n",
    "print('Average entropy of responsibilities:')\n",
    "print(jnp.sum(jnp.exp(vamsl.get_posteriors()[2])*vamsl.get_posteriors()[2])/vamsl.get_posteriors()[2].shape[0])\n",
    "y_true = x_ind[:,n_vars]\n",
    "y_pred = [order[k] for k in [jnp.argmax(c_i) for c_i in vamsl.get_posteriors()[2]]]\n",
    "if n_components==2:\n",
    "    print('Classification report:')\n",
    "    print(classification_report(y_true=y_true, y_pred=y_pred, target_names=['Component 1', 'Component 2']))\n",
    "print('Ordered confusion matrix:\\n', (cm:=confusion_matrix(y_true, y_pred)))\n",
    "print('Percentage missclassified: ', 100*jnp.sum(cm[~jnp.eye(n_components, dtype=bool)])/n_observations, '%') # mask diagonal with logical not of identity matrix"
   ]
  },
  {
   "cell_type": "code",
   "execution_count": 42,
   "id": "43a0bf9d-32da-4d6d-9c5a-038332bf71e4",
   "metadata": {
    "tags": []
   },
   "outputs": [
    {
     "name": "stdout",
     "output_type": "stream",
     "text": [
      " Component    1 |  E-SHD:  6.3    AUROC:  0.70    neg. LL  0.00\n",
      " Component    2 |  E-SHD:  4.0    AUROC:  0.81    neg. LL  0.00\n"
     ]
    }
   ],
   "source": [
    "from vamsl.metrics import expected_shd, threshold_metrics, neg_ave_log_likelihood\n",
    "\n",
    "# Get component datasets\n",
    "datas = [x_ind[x_ind[:,n_vars]==k][:,:n_vars] for k in range(n_components)]\n",
    "\n",
    "# Loop over components and calculate metrics\n",
    "for k, data, q_z_k, q_theta_k in zip(range(n_components), datas, vamsl.get_posteriors()[0], vamsl.get_posteriors()[1]):\n",
    "    # Get particle distribution for component\n",
    "    q_g_k = vamsl.particle_to_g_lim(q_z_k, vamsl.get_E()[order[k]])\n",
    "    dist = vamsl.get_empirical(q_g_k, q_theta_k)\n",
    "    \n",
    "    # Calculate metrics\n",
    "    eshd = expected_shd(dist=dist, g=ground_truth_graphs[order[k]])       \n",
    "    auroc = threshold_metrics(dist=dist, g=ground_truth_graphs[order[k]])['roc_auc']\n",
    "    #negll = neg_ave_log_likelihood(dist=dist, eltwise_log_likelihood=vamsl.eltwise_component_log_likelihood_observ, x=data.x_ho)\n",
    "    negll=0\n",
    "    \n",
    "    print(f' Component {k+1:4d} |  E-SHD: {eshd:4.1f}    AUROC: {auroc:5.2f}    neg. LL {negll:5.2f}')"
   ]
  },
  {
   "cell_type": "code",
   "execution_count": null,
   "id": "781d511d-2b63-4786-a2c7-97286688c66b",
   "metadata": {
    "tags": []
   },
   "outputs": [],
   "source": [
    "from sklearn.metrics import classification_report, confusion_matrix\n",
    "\n",
    "print('Sums of responsibilities:')\n",
    "print(jnp.sum(jnp.exp(vamsl.get_posteriors()[2]), axis=0))\n",
    "print('Average entropy of responsibilities:')\n",
    "print(jnp.sum(jnp.exp(vamsl.get_posteriors()[2])*vamsl.get_posteriors()[2])/vamsl.get_posteriors()[2].shape[0])\n",
    "y_true = x_ind[:,n_vars]\n",
    "y_pred = [order[k] for k in [jnp.argmax(c_i) for c_i in vamsl.get_posteriors()[2]]]\n",
    "if n_components==2:\n",
    "    print('Classification report:')\n",
    "    print(classification_report(y_true=y_true, y_pred=y_pred, target_names=['Component 1', 'Component 2']))\n",
    "print('Ordered confusion matrix:\\n', (cm:=confusion_matrix(y_true, y_pred)))\n",
    "print('Percentage missclassified: ', 100*jnp.sum(cm[~jnp.eye(n_components, dtype=bool)])/n_observations, '%') # mask diagonal with logical not of identity matrix"
   ]
  },
  {
   "cell_type": "markdown",
   "id": "a978b293-d51f-475f-9664-cf16bab16878",
   "metadata": {},
   "source": [
    "### Evaluate structure learning performance"
   ]
  },
  {
   "cell_type": "code",
   "execution_count": null,
   "id": "6f0e9849-35c1-4e70-abe4-502b4fab32ef",
   "metadata": {
    "tags": []
   },
   "outputs": [],
   "source": [
    "from vamsl.metrics import expected_shd, threshold_metrics, neg_ave_log_likelihood\n",
    "\n",
    "# Get component datasets\n",
    "datas = [x_ind[x_ind[:,n_vars]==k][:,:n_vars] for k in range(n_components)]\n",
    "\n",
    "# Loop over components and calculate metrics\n",
    "for k, data, q_z_k, q_theta_k in zip(range(n_components), datas, vamsl.get_posteriors()[0], vamsl.get_posteriors()[1]):\n",
    "    # Get particle distribution for component\n",
    "    q_g_k = vamsl.particle_to_g_lim(q_z_k, vamsl.get_E()[order[k]])\n",
    "    dist = vamsl.get_empirical(q_g_k, q_theta_k)\n",
    "    \n",
    "    # Calculate metrics\n",
    "    eshd = expected_shd(dist=dist, g=ground_truth_graphs[order[k]])       \n",
    "    auroc = threshold_metrics(dist=dist, g=ground_truth_graphs[order[k]])['roc_auc']\n",
    "    #negll = neg_ave_log_likelihood(dist=dist, eltwise_log_likelihood=vamsl.eltwise_component_log_likelihood_observ, x=data.x_ho)\n",
    "    negll=0\n",
    "    \n",
    "    print(f' Component {k+1:4d} |  E-SHD: {eshd:4.1f}    AUROC: {auroc:5.2f}    neg. LL {negll:5.2f}')"
   ]
  },
  {
   "cell_type": "code",
   "execution_count": null,
   "id": "03240155-84f6-4020-aa8b-9e1ce63e5060",
   "metadata": {
    "tags": []
   },
   "outputs": [],
   "source": [
    "from vamsl.metrics import expected_shd, threshold_metrics, neg_ave_log_likelihood\n",
    "\n",
    "# Get component datasets\n",
    "datas = [x_ind[x_ind[:,n_vars]==k][:,:n_vars] for k in range(n_components)]\n",
    "\n",
    "# Loop over components and calculate metrics\n",
    "for k, data, q_z_k, q_theta_k in zip(range(n_components), datas, vamsl.get_posteriors()[0], vamsl.get_posteriors()[1]):\n",
    "    # Get particle distribution for component\n",
    "    q_g_k = vamsl.particle_to_g_lim(q_z_k, vamsl.get_E()[order[k]])\n",
    "    dist = vamsl.get_empirical(q_g_k, q_theta_k)\n",
    "    \n",
    "    # Calculate metrics\n",
    "    eshd = expected_shd(dist=dist, g=ground_truth_graphs[order[k]])       \n",
    "    auroc = threshold_metrics(dist=dist, g=ground_truth_graphs[order[k]])['roc_auc']\n",
    "    #negll = neg_ave_log_likelihood(dist=dist, eltwise_log_likelihood=vamsl.eltwise_component_log_likelihood_observ, x=data.x_ho)\n",
    "    negll=0\n",
    "    \n",
    "    print(f' Component {k+1:4d} |  E-SHD: {eshd:4.1f}    AUROC: {auroc:5.2f}    neg. LL {negll:5.2f}')"
   ]
  },
  {
   "cell_type": "code",
   "execution_count": null,
   "id": "dcb3b792-4238-408b-84a6-c26ae5318f0e",
   "metadata": {
    "tags": []
   },
   "outputs": [],
   "source": [
    "from vamsl.metrics import expected_shd, threshold_metrics, neg_ave_log_likelihood\n",
    "\n",
    "# Get component datasets\n",
    "datas = [x_ind[x_ind[:,n_vars]==k][:,:n_vars] for k in range(n_components)]\n",
    "\n",
    "# Loop over components and calculate metrics\n",
    "for k, data, q_z_k, q_theta_k in zip(range(n_components), datas, vamsl.get_posteriors()[0], vamsl.get_posteriors()[1]):\n",
    "    # Get particle distribution for component\n",
    "    q_g_k = vamsl.particle_to_g_lim(q_z_k, vamsl.get_E()[order[k]])\n",
    "    dist = vamsl.get_empirical(q_g_k, q_theta_k)\n",
    "    \n",
    "    # Calculate metrics\n",
    "    eshd = expected_shd(dist=dist, g=ground_truth_graphs[order[k]])       \n",
    "    auroc = threshold_metrics(dist=dist, g=ground_truth_graphs[order[k]])['roc_auc']\n",
    "    #negll = neg_ave_log_likelihood(dist=dist, eltwise_log_likelihood=vamsl.eltwise_component_log_likelihood_observ, x=data.x_ho)\n",
    "    negll=0\n",
    "    \n",
    "    print(f' Component {k+1:4d} |  E-SHD: {eshd:4.1f}    AUROC: {auroc:5.2f}    neg. LL {negll:5.2f}')"
   ]
  },
  {
   "cell_type": "code",
   "execution_count": null,
   "id": "de801d8a-0bd4-40ff-94ce-dea5c1bdca02",
   "metadata": {},
   "outputs": [],
   "source": [
    "vamsl.elicitation_probs_to_hard_constraints(vamsl.get_E())"
   ]
  },
  {
   "cell_type": "markdown",
   "id": "1f3909cf-c46d-4a89-96ec-e19107126127",
   "metadata": {},
   "source": [
    "### Elicitation\n",
    "\n",
    "Incoporate elicited hard and soft edge constraints into VaMSL. Either provide an elicitation matrix, construct one by answering queries, or let a oracle simulate the process of querying an expert."
   ]
  },
  {
   "cell_type": "code",
   "execution_count": null,
   "id": "6afdc2b2-1eb6-4fca-b16d-55ed4d84d6ad",
   "metadata": {},
   "outputs": [],
   "source": [
    "from vamsl.elicitation.simulators import bernoulli_simulator\n",
    "from vamsl.elicitation import edgeElicitation, graphOracle\n",
    "\n",
    "init_queries = 0 \n",
    "n_queries = 0 \n",
    "random_queries=False\n",
    "expert_reliability = 0"
   ]
  },
  {
   "cell_type": "code",
   "execution_count": null,
   "id": "b8ff6d9b-fc8b-4a78-8d0e-c471d856c332",
   "metadata": {},
   "outputs": [],
   "source": [
    "E_1 = jnp.zeros((n_vars,n_vars)).at[0,1].set(1.0).at[0,2].set(1.0).at[2,1].set(1.0).at[1,0].set(-1.0).at[2,0].set(-1.0).at[1,2].set(-1.0)\n",
    "E_2 = jnp.zeros((n_vars,n_vars)).at[1,0].set(1.0).at[2,0].set(1.0).at[3,0].set(1.0).at[0,1].set(-1.0).at[0,2].set(-1.0).at[0,3].set(-1.0)\n",
    "visualize_ground_truth(E_1)\n",
    "visualize_ground_truth(E_2)\n",
    "#E_3 = jnp.zeros((n_vars,n_vars)).at[0,3].set(1.0).at[3,2].set(1.0).at[3,1].set(1.0)\n",
    "\n",
    "E = jnp.stack([E_1, E_2], axis=0)\n",
    "vamsl.set_E(E)"
   ]
  },
  {
   "cell_type": "markdown",
   "id": "98d05112-fcaa-486b-b68c-e9071175b007",
   "metadata": {},
   "source": [
    "### Save model and data"
   ]
  },
  {
   "cell_type": "code",
   "execution_count": null,
   "id": "7ec29b60-e2a1-4621-b055-f1ae62cfa165",
   "metadata": {},
   "outputs": [],
   "source": [
    "import pickle\n",
    "#filename = '5_d_14_p_100_s_30_e_2000_s.p'\n",
    "pickle.dump(vamsl.get_posteriors(), open(filename, 'wb'))"
   ]
  },
  {
   "cell_type": "code",
   "execution_count": null,
   "id": "653731a4-b242-4e84-a2e8-1996976b253e",
   "metadata": {
    "tags": []
   },
   "outputs": [],
   "source": [
    "import pickle\n",
    "posts = pickle.load(open('20_d_14_p_200_s_20_e_2000_s.p', 'rb'))"
   ]
  },
  {
   "cell_type": "code",
   "execution_count": null,
   "id": "f0e0e905-5d9d-4b35-bc3e-15ee5e410908",
   "metadata": {},
   "outputs": [],
   "source": []
  },
  {
   "cell_type": "code",
   "execution_count": 1,
   "id": "2198b579-ad84-43f8-8add-7caebdf518be",
   "metadata": {
    "tags": []
   },
   "outputs": [
    {
     "name": "stderr",
     "output_type": "stream",
     "text": [
      "WARNING: All log messages before absl::InitializeLog() is called are written to STDERR\n",
      "I0000 00:00:1740485902.454452     302 tfrt_cpu_pjrt_client.cc:349] TfrtCpuClient created.\n",
      "No GPU/TPU found, falling back to CPU. (Set TF_CPP_MIN_LOG_LEVEL=0 and rerun for more info.)\n"
     ]
    },
    {
     "name": "stdout",
     "output_type": "stream",
     "text": [
      "JAX backend: cpu\n"
     ]
    }
   ],
   "source": [
    "import jax\n",
    "import jax.numpy as jnp\n",
    "import jax.random as random\n",
    "\n",
    "print(f\"JAX backend: {jax.default_backend()}\")\n",
    "key=random.PRNGKey(123)"
   ]
  },
  {
   "cell_type": "code",
   "execution_count": 11,
   "id": "209c6d50-7fef-46c8-95c9-bcc41a2dac1a",
   "metadata": {
    "tags": []
   },
   "outputs": [
    {
     "name": "stdout",
     "output_type": "stream",
     "text": [
      "(10, 3)\n",
      "(5, 10)\n",
      "(5, 10, 3)\n"
     ]
    },
    {
     "data": {
      "text/plain": [
       "(3, 5, 10)"
      ]
     },
     "execution_count": 11,
     "metadata": {},
     "output_type": "execute_result"
    }
   ],
   "source": [
    "log_q_c = jnp.log(1/3*jnp.ones((10,3)))\n",
    "log_q_c = jnp.log(jnp.hstack([jnp.ones((10,1)),jnp.zeros((10,2))]))\n",
    "\n",
    "print(log_q_c.shape)\n",
    "\n",
    "mc_samples = 5\n",
    "\n",
    "key=random.PRNGKey(123)\n",
    "# Sample assignments from categorical distribution parametrized by responsibilities\n",
    "assignments = random.categorical(key=key, logits=log_q_c, shape=(mc_samples, log_q_c.shape[0]))\n",
    "print(assignments.shape)\n",
    "# Construct matrix of one-hot vectors from sampled assignmnets\n",
    "one_hot_assignments = jax.nn.one_hot(assignments, num_classes=log_q_c.shape[1])\n",
    "print(one_hot_assignments.shape)\n",
    "\n",
    "jnp.array([one_hot_assignments[...,col] for col in range(log_q_c.shape[1])]).shape\n",
    "        "
   ]
  }
 ],
 "metadata": {
  "kernelspec": {
   "display_name": "Python 3",
   "language": "python",
   "name": "python3"
  },
  "language_info": {
   "codemirror_mode": {
    "name": "ipython",
    "version": 3
   },
   "file_extension": ".py",
   "mimetype": "text/x-python",
   "name": "python",
   "nbconvert_exporter": "python",
   "pygments_lexer": "ipython3",
   "version": "3.10.12"
  }
 },
 "nbformat": 4,
 "nbformat_minor": 5
}
