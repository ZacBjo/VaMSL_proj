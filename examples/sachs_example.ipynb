{
 "cells": [
  {
   "cell_type": "markdown",
   "id": "42100c02-d1da-42d5-abb3-07a6547ea2c4",
   "metadata": {},
   "source": [
    "### Sachs data\n",
    "\n",
    "[Sachs Protein Data](https://perso.univ-rennes1.fr/valerie.monbet/GM/Sachs.html)"
   ]
  },
  {
   "cell_type": "code",
   "execution_count": 1,
   "id": "40b3101e-bc4c-4a2d-a913-2407a6f8088c",
   "metadata": {
    "tags": []
   },
   "outputs": [
    {
     "name": "stderr",
     "output_type": "stream",
     "text": [
      "No GPU automatically detected. Setting SETTINGS.GPU to 0, and SETTINGS.NJOBS to cpu_count.\n",
      "No GPU/TPU found, falling back to CPU. (Set TF_CPP_MIN_LOG_LEVEL=0 and rerun for more info.)\n",
      "WARNING: All log messages before absl::InitializeLog() is called are written to STDERR\n",
      "I0000 00:00:1737034938.771853    1799 tfrt_cpu_pjrt_client.cc:349] TfrtCpuClient created.\n"
     ]
    },
    {
     "name": "stdout",
     "output_type": "stream",
     "text": [
      "JAX backend: cpu\n"
     ]
    }
   ],
   "source": [
    "#pip install ../. \n",
    "#pip install cdt\n",
    "from cdt.data import load_dataset\n",
    "import networkx as nx\n",
    "import jax\n",
    "import jax.numpy as jnp\n",
    "import jax.random as random\n",
    "import numpy as np\n",
    "import pandas as pd\n",
    "\n",
    "print(f\"JAX backend: {jax.default_backend()}\")\n",
    "key=random.PRNGKey(343)\n",
    "\n",
    "def permute_random_rows(key, X, p=0.5):\n",
    "    key, subk = random.split(key)\n",
    "    permutation = random.permutation(subk, jnp.arange(X.shape[1]))\n",
    "    \n",
    "    key, subk = random.split(key)\n",
    "    permute = random.bernoulli(subk, p=jnp.float32(p), shape=(X.shape[0],))\n",
    "\n",
    "    [X := X.at[i,:].set(X[i,permutation]) for i in range(X.shape[0]) if permute[i]]\n",
    "    \n",
    "    return X, permute, permutation\n",
    "\n",
    "def permute_directed_graph(graph, permutation):\n",
    "    g, perm, perm_g = graph, permutation, jnp.zeros_like(graph)\n",
    "    for i in range(g.shape[0]):\n",
    "        for j in range(g.shape[1]):\n",
    "                perm_g = perm_g.at[i,j].set(g[perm[i],perm[j]])\n",
    "                \n",
    "    return perm_g"
   ]
  },
  {
   "cell_type": "code",
   "execution_count": 2,
   "id": "abe2ebcc-94cf-486d-a41b-6969a0c965e2",
   "metadata": {
    "tags": []
   },
   "outputs": [
    {
     "name": "stdout",
     "output_type": "stream",
     "text": [
      "Adjacency matrix: \n",
      " [[0. 1. 0. 1. 0. 0. 0. 0. 0. 0. 0.]\n",
      " [0. 0. 0. 0. 1. 1. 0. 1. 1. 0. 0.]\n",
      " [1. 1. 0. 0. 0. 0. 0. 0. 0. 0. 0.]\n",
      " [0. 0. 1. 0. 0. 0. 0. 0. 0. 0. 1.]\n",
      " [0. 0. 0. 0. 0. 0. 0. 0. 0. 0. 0.]\n",
      " [0. 0. 0. 0. 0. 0. 0. 0. 0. 0. 0.]\n",
      " [0. 0. 0. 0. 1. 1. 0. 1. 1. 1. 1.]\n",
      " [0. 0. 0. 0. 0. 0. 0. 0. 1. 0. 0.]\n",
      " [0. 0. 0. 0. 0. 0. 0. 0. 0. 1. 0.]\n",
      " [0. 0. 0. 0. 0. 0. 0. 0. 0. 0. 0.]\n",
      " [0. 0. 0. 0. 0. 0. 0. 0. 0. 0. 0.]]\n",
      "Data shape: \n",
      " (7466, 11)\n"
     ]
    }
   ],
   "source": [
    "# Load the graph and data\n",
    "sachs_data, sachs_graph = load_dataset(\"sachs\")\n",
    "\n",
    "adjacency = jnp.array(nx.to_numpy_array(sachs_graph))\n",
    "print('Adjacency matrix: \\n', adjacency)\n",
    "\n",
    "data = jnp.array(sachs_data.values)[:,:]\n",
    "print('Data shape: \\n', data.shape)"
   ]
  },
  {
   "cell_type": "code",
   "execution_count": 3,
   "id": "49b2b5df-6015-4181-a0dc-08e6adb08fe6",
   "metadata": {
    "tags": []
   },
   "outputs": [
    {
     "name": "stdout",
     "output_type": "stream",
     "text": [
      "Processed data shape: \n",
      " (7466, 11)\n",
      "Permutation: \n",
      " [ 2  4  9  6  7  8 10  5  3  0  1]\n",
      "Ground truth graphs: \n",
      " [Array([[0., 1., 0., 1., 0., 0., 0., 0., 0., 0., 0.],\n",
      "       [0., 0., 0., 0., 1., 1., 0., 1., 1., 0., 0.],\n",
      "       [1., 1., 0., 0., 0., 0., 0., 0., 0., 0., 0.],\n",
      "       [0., 0., 1., 0., 0., 0., 0., 0., 0., 0., 1.],\n",
      "       [0., 0., 0., 0., 0., 0., 0., 0., 0., 0., 0.],\n",
      "       [0., 0., 0., 0., 0., 0., 0., 0., 0., 0., 0.],\n",
      "       [0., 0., 0., 0., 1., 1., 0., 1., 1., 1., 1.],\n",
      "       [0., 0., 0., 0., 0., 0., 0., 0., 1., 0., 0.],\n",
      "       [0., 0., 0., 0., 0., 0., 0., 0., 0., 1., 0.],\n",
      "       [0., 0., 0., 0., 0., 0., 0., 0., 0., 0., 0.],\n",
      "       [0., 0., 0., 0., 0., 0., 0., 0., 0., 0., 0.]], dtype=float32), Array([[0., 0., 0., 0., 0., 0., 0., 0., 0., 1., 1.],\n",
      "       [0., 0., 0., 0., 0., 0., 0., 0., 0., 0., 0.],\n",
      "       [0., 0., 0., 0., 0., 0., 0., 0., 0., 0., 0.],\n",
      "       [0., 1., 1., 0., 1., 1., 1., 1., 0., 0., 0.],\n",
      "       [0., 0., 0., 0., 0., 1., 0., 0., 0., 0., 0.],\n",
      "       [0., 0., 1., 0., 0., 0., 0., 0., 0., 0., 0.],\n",
      "       [0., 0., 0., 0., 0., 0., 0., 0., 0., 0., 0.],\n",
      "       [0., 0., 0., 0., 0., 0., 0., 0., 0., 0., 0.],\n",
      "       [1., 0., 0., 0., 0., 0., 1., 0., 0., 0., 0.],\n",
      "       [0., 0., 0., 0., 0., 0., 0., 0., 1., 0., 1.],\n",
      "       [0., 1., 0., 0., 1., 1., 0., 1., 0., 0., 0.]], dtype=float32)]\n"
     ]
    }
   ],
   "source": [
    "# Process data\n",
    "key, subk = random.split(key)\n",
    "X, indicator, permutation = permute_random_rows(subk, data, p=0.5)\n",
    "#X = jax.nn.standardize(X, axis=0)\n",
    "print('Processed data shape: \\n', X.shape)\n",
    "print('Permutation: \\n', permutation)\n",
    "\n",
    "ground_truth_graphs = [adjacency, permute_directed_graph(adjacency, permutation)]\n",
    "print('Ground truth graphs: \\n', ground_truth_graphs)"
   ]
  },
  {
   "cell_type": "code",
   "execution_count": 4,
   "id": "9526d8db-2e3d-4027-98a0-36d2ac5d5842",
   "metadata": {
    "tags": []
   },
   "outputs": [
    {
     "data": {
      "text/html": [
       "<div>\n",
       "<style scoped>\n",
       "    .dataframe tbody tr th:only-of-type {\n",
       "        vertical-align: middle;\n",
       "    }\n",
       "\n",
       "    .dataframe tbody tr th {\n",
       "        vertical-align: top;\n",
       "    }\n",
       "\n",
       "    .dataframe thead th {\n",
       "        text-align: right;\n",
       "    }\n",
       "</style>\n",
       "<table border=\"1\" class=\"dataframe\">\n",
       "  <thead>\n",
       "    <tr style=\"text-align: right;\">\n",
       "      <th></th>\n",
       "      <th>0</th>\n",
       "      <th>1</th>\n",
       "      <th>2</th>\n",
       "      <th>3</th>\n",
       "      <th>4</th>\n",
       "      <th>5</th>\n",
       "      <th>6</th>\n",
       "      <th>7</th>\n",
       "      <th>8</th>\n",
       "      <th>9</th>\n",
       "      <th>10</th>\n",
       "    </tr>\n",
       "  </thead>\n",
       "  <tbody>\n",
       "    <tr>\n",
       "      <th>count</th>\n",
       "      <td>3706.000000</td>\n",
       "      <td>3706.000000</td>\n",
       "      <td>3706.000000</td>\n",
       "      <td>3706.000000</td>\n",
       "      <td>3706.000000</td>\n",
       "      <td>3706.000000</td>\n",
       "      <td>3706.000000</td>\n",
       "      <td>3706.000000</td>\n",
       "      <td>3706.000000</td>\n",
       "      <td>3706.000000</td>\n",
       "      <td>3706.000000</td>\n",
       "    </tr>\n",
       "    <tr>\n",
       "      <th>mean</th>\n",
       "      <td>126.226578</td>\n",
       "      <td>149.241562</td>\n",
       "      <td>51.623028</td>\n",
       "      <td>145.906372</td>\n",
       "      <td>27.600828</td>\n",
       "      <td>26.573629</td>\n",
       "      <td>79.875435</td>\n",
       "      <td>636.472717</td>\n",
       "      <td>30.360804</td>\n",
       "      <td>132.743011</td>\n",
       "      <td>72.062790</td>\n",
       "    </tr>\n",
       "    <tr>\n",
       "      <th>std</th>\n",
       "      <td>257.605286</td>\n",
       "      <td>391.166779</td>\n",
       "      <td>149.812042</td>\n",
       "      <td>266.308319</td>\n",
       "      <td>43.727592</td>\n",
       "      <td>50.692448</td>\n",
       "      <td>139.785034</td>\n",
       "      <td>672.737854</td>\n",
       "      <td>99.237152</td>\n",
       "      <td>511.181976</td>\n",
       "      <td>221.737915</td>\n",
       "    </tr>\n",
       "    <tr>\n",
       "      <th>min</th>\n",
       "      <td>1.000000</td>\n",
       "      <td>1.000000</td>\n",
       "      <td>1.000000</td>\n",
       "      <td>1.000000</td>\n",
       "      <td>1.000000</td>\n",
       "      <td>1.000000</td>\n",
       "      <td>1.010000</td>\n",
       "      <td>1.000000</td>\n",
       "      <td>1.000000</td>\n",
       "      <td>1.000000</td>\n",
       "      <td>1.000000</td>\n",
       "    </tr>\n",
       "    <tr>\n",
       "      <th>25%</th>\n",
       "      <td>30.799999</td>\n",
       "      <td>16.400000</td>\n",
       "      <td>9.390000</td>\n",
       "      <td>17.900000</td>\n",
       "      <td>9.470000</td>\n",
       "      <td>8.510000</td>\n",
       "      <td>23.299999</td>\n",
       "      <td>274.000000</td>\n",
       "      <td>4.180000</td>\n",
       "      <td>19.299999</td>\n",
       "      <td>7.840000</td>\n",
       "    </tr>\n",
       "    <tr>\n",
       "      <th>50%</th>\n",
       "      <td>53.799999</td>\n",
       "      <td>26.400000</td>\n",
       "      <td>16.400000</td>\n",
       "      <td>51.900002</td>\n",
       "      <td>17.799999</td>\n",
       "      <td>17.200001</td>\n",
       "      <td>37.200001</td>\n",
       "      <td>449.000000</td>\n",
       "      <td>12.600000</td>\n",
       "      <td>30.200001</td>\n",
       "      <td>18.100000</td>\n",
       "    </tr>\n",
       "    <tr>\n",
       "      <th>75%</th>\n",
       "      <td>103.000000</td>\n",
       "      <td>65.949999</td>\n",
       "      <td>26.900000</td>\n",
       "      <td>172.000000</td>\n",
       "      <td>33.700001</td>\n",
       "      <td>32.500000</td>\n",
       "      <td>72.300003</td>\n",
       "      <td>757.000000</td>\n",
       "      <td>23.450000</td>\n",
       "      <td>50.000000</td>\n",
       "      <td>50.000000</td>\n",
       "    </tr>\n",
       "    <tr>\n",
       "      <th>max</th>\n",
       "      <td>3820.000000</td>\n",
       "      <td>5829.000000</td>\n",
       "      <td>2267.000000</td>\n",
       "      <td>3619.000000</td>\n",
       "      <td>1084.000000</td>\n",
       "      <td>2571.000000</td>\n",
       "      <td>3555.000000</td>\n",
       "      <td>8896.000000</td>\n",
       "      <td>1611.000000</td>\n",
       "      <td>7499.000000</td>\n",
       "      <td>4740.000000</td>\n",
       "    </tr>\n",
       "  </tbody>\n",
       "</table>\n",
       "</div>"
      ],
      "text/plain": [
       "                0            1            2            3            4   \\\n",
       "count  3706.000000  3706.000000  3706.000000  3706.000000  3706.000000   \n",
       "mean    126.226578   149.241562    51.623028   145.906372    27.600828   \n",
       "std     257.605286   391.166779   149.812042   266.308319    43.727592   \n",
       "min       1.000000     1.000000     1.000000     1.000000     1.000000   \n",
       "25%      30.799999    16.400000     9.390000    17.900000     9.470000   \n",
       "50%      53.799999    26.400000    16.400000    51.900002    17.799999   \n",
       "75%     103.000000    65.949999    26.900000   172.000000    33.700001   \n",
       "max    3820.000000  5829.000000  2267.000000  3619.000000  1084.000000   \n",
       "\n",
       "                5            6            7            8            9   \\\n",
       "count  3706.000000  3706.000000  3706.000000  3706.000000  3706.000000   \n",
       "mean     26.573629    79.875435   636.472717    30.360804   132.743011   \n",
       "std      50.692448   139.785034   672.737854    99.237152   511.181976   \n",
       "min       1.000000     1.010000     1.000000     1.000000     1.000000   \n",
       "25%       8.510000    23.299999   274.000000     4.180000    19.299999   \n",
       "50%      17.200001    37.200001   449.000000    12.600000    30.200001   \n",
       "75%      32.500000    72.300003   757.000000    23.450000    50.000000   \n",
       "max    2571.000000  3555.000000  8896.000000  1611.000000  7499.000000   \n",
       "\n",
       "                10  \n",
       "count  3706.000000  \n",
       "mean     72.062790  \n",
       "std     221.737915  \n",
       "min       1.000000  \n",
       "25%       7.840000  \n",
       "50%      18.100000  \n",
       "75%      50.000000  \n",
       "max    4740.000000  "
      ]
     },
     "execution_count": 4,
     "metadata": {},
     "output_type": "execute_result"
    }
   ],
   "source": [
    "# Unpermuted data set\n",
    "pd.DataFrame(X[~indicator,:]).describe()"
   ]
  },
  {
   "cell_type": "code",
   "execution_count": 5,
   "id": "fe39a43d-be34-494c-bef9-fe072284bbb0",
   "metadata": {
    "tags": []
   },
   "outputs": [
    {
     "data": {
      "text/html": [
       "<div>\n",
       "<style scoped>\n",
       "    .dataframe tbody tr th:only-of-type {\n",
       "        vertical-align: middle;\n",
       "    }\n",
       "\n",
       "    .dataframe tbody tr th {\n",
       "        vertical-align: top;\n",
       "    }\n",
       "\n",
       "    .dataframe thead th {\n",
       "        text-align: right;\n",
       "    }\n",
       "</style>\n",
       "<table border=\"1\" class=\"dataframe\">\n",
       "  <thead>\n",
       "    <tr style=\"text-align: right;\">\n",
       "      <th></th>\n",
       "      <th>0</th>\n",
       "      <th>1</th>\n",
       "      <th>2</th>\n",
       "      <th>3</th>\n",
       "      <th>4</th>\n",
       "      <th>5</th>\n",
       "      <th>6</th>\n",
       "      <th>7</th>\n",
       "      <th>8</th>\n",
       "      <th>9</th>\n",
       "      <th>10</th>\n",
       "    </tr>\n",
       "  </thead>\n",
       "  <tbody>\n",
       "    <tr>\n",
       "      <th>count</th>\n",
       "      <td>3760.000000</td>\n",
       "      <td>3760.000000</td>\n",
       "      <td>3760.000000</td>\n",
       "      <td>3760.000000</td>\n",
       "      <td>3760.000000</td>\n",
       "      <td>3760.000000</td>\n",
       "      <td>3760.000000</td>\n",
       "      <td>3760.000000</td>\n",
       "      <td>3760.000000</td>\n",
       "      <td>3760.000000</td>\n",
       "      <td>3760.000000</td>\n",
       "    </tr>\n",
       "    <tr>\n",
       "      <th>mean</th>\n",
       "      <td>58.037865</td>\n",
       "      <td>26.477222</td>\n",
       "      <td>137.253372</td>\n",
       "      <td>82.440437</td>\n",
       "      <td>615.198242</td>\n",
       "      <td>30.322784</td>\n",
       "      <td>74.454910</td>\n",
       "      <td>26.687933</td>\n",
       "      <td>156.260208</td>\n",
       "      <td>121.948219</td>\n",
       "      <td>141.575821</td>\n",
       "    </tr>\n",
       "    <tr>\n",
       "      <th>std</th>\n",
       "      <td>194.643814</td>\n",
       "      <td>42.366215</td>\n",
       "      <td>478.097717</td>\n",
       "      <td>135.753296</td>\n",
       "      <td>615.223389</td>\n",
       "      <td>86.149490</td>\n",
       "      <td>209.520645</td>\n",
       "      <td>40.469086</td>\n",
       "      <td>328.633026</td>\n",
       "      <td>237.192398</td>\n",
       "      <td>362.621826</td>\n",
       "    </tr>\n",
       "    <tr>\n",
       "      <th>min</th>\n",
       "      <td>1.000000</td>\n",
       "      <td>1.000000</td>\n",
       "      <td>1.000000</td>\n",
       "      <td>1.000000</td>\n",
       "      <td>1.000000</td>\n",
       "      <td>1.000000</td>\n",
       "      <td>1.000000</td>\n",
       "      <td>1.000000</td>\n",
       "      <td>1.000000</td>\n",
       "      <td>1.000000</td>\n",
       "      <td>1.000000</td>\n",
       "    </tr>\n",
       "    <tr>\n",
       "      <th>25%</th>\n",
       "      <td>9.470000</td>\n",
       "      <td>9.650000</td>\n",
       "      <td>19.299999</td>\n",
       "      <td>23.299999</td>\n",
       "      <td>279.000000</td>\n",
       "      <td>4.730000</td>\n",
       "      <td>8.200000</td>\n",
       "      <td>8.510000</td>\n",
       "      <td>18.799999</td>\n",
       "      <td>31.100000</td>\n",
       "      <td>16.700001</td>\n",
       "    </tr>\n",
       "    <tr>\n",
       "      <th>50%</th>\n",
       "      <td>16.700001</td>\n",
       "      <td>17.600000</td>\n",
       "      <td>30.799999</td>\n",
       "      <td>37.200001</td>\n",
       "      <td>449.000000</td>\n",
       "      <td>13.050000</td>\n",
       "      <td>18.799999</td>\n",
       "      <td>17.299999</td>\n",
       "      <td>54.200001</td>\n",
       "      <td>53.799999</td>\n",
       "      <td>26.900000</td>\n",
       "    </tr>\n",
       "    <tr>\n",
       "      <th>75%</th>\n",
       "      <td>27.400000</td>\n",
       "      <td>31.900000</td>\n",
       "      <td>49.599998</td>\n",
       "      <td>72.300003</td>\n",
       "      <td>750.000000</td>\n",
       "      <td>23.500000</td>\n",
       "      <td>54.700001</td>\n",
       "      <td>31.900000</td>\n",
       "      <td>170.000000</td>\n",
       "      <td>103.000000</td>\n",
       "      <td>62.599998</td>\n",
       "    </tr>\n",
       "    <tr>\n",
       "      <th>max</th>\n",
       "      <td>6208.000000</td>\n",
       "      <td>1275.000000</td>\n",
       "      <td>6378.000000</td>\n",
       "      <td>1715.000000</td>\n",
       "      <td>8354.000000</td>\n",
       "      <td>1155.000000</td>\n",
       "      <td>3398.000000</td>\n",
       "      <td>1715.000000</td>\n",
       "      <td>9058.000000</td>\n",
       "      <td>4614.000000</td>\n",
       "      <td>7105.000000</td>\n",
       "    </tr>\n",
       "  </tbody>\n",
       "</table>\n",
       "</div>"
      ],
      "text/plain": [
       "                0            1            2            3            4   \\\n",
       "count  3760.000000  3760.000000  3760.000000  3760.000000  3760.000000   \n",
       "mean     58.037865    26.477222   137.253372    82.440437   615.198242   \n",
       "std     194.643814    42.366215   478.097717   135.753296   615.223389   \n",
       "min       1.000000     1.000000     1.000000     1.000000     1.000000   \n",
       "25%       9.470000     9.650000    19.299999    23.299999   279.000000   \n",
       "50%      16.700001    17.600000    30.799999    37.200001   449.000000   \n",
       "75%      27.400000    31.900000    49.599998    72.300003   750.000000   \n",
       "max    6208.000000  1275.000000  6378.000000  1715.000000  8354.000000   \n",
       "\n",
       "                5            6            7            8            9   \\\n",
       "count  3760.000000  3760.000000  3760.000000  3760.000000  3760.000000   \n",
       "mean     30.322784    74.454910    26.687933   156.260208   121.948219   \n",
       "std      86.149490   209.520645    40.469086   328.633026   237.192398   \n",
       "min       1.000000     1.000000     1.000000     1.000000     1.000000   \n",
       "25%       4.730000     8.200000     8.510000    18.799999    31.100000   \n",
       "50%      13.050000    18.799999    17.299999    54.200001    53.799999   \n",
       "75%      23.500000    54.700001    31.900000   170.000000   103.000000   \n",
       "max    1155.000000  3398.000000  1715.000000  9058.000000  4614.000000   \n",
       "\n",
       "                10  \n",
       "count  3760.000000  \n",
       "mean    141.575821  \n",
       "std     362.621826  \n",
       "min       1.000000  \n",
       "25%      16.700001  \n",
       "50%      26.900000  \n",
       "75%      62.599998  \n",
       "max    7105.000000  "
      ]
     },
     "execution_count": 5,
     "metadata": {},
     "output_type": "execute_result"
    }
   ],
   "source": [
    "# Permuted data set\n",
    "pd.DataFrame(X[indicator,:]).describe()"
   ]
  },
  {
   "cell_type": "markdown",
   "id": "afc0a744-1c81-4c72-a003-df964b735e66",
   "metadata": {},
   "source": [
    "### Create VaMSL model"
   ]
  },
  {
   "cell_type": "code",
   "execution_count": 6,
   "id": "3f389cfb-1e3e-4adf-a330-f0646587432c",
   "metadata": {
    "tags": []
   },
   "outputs": [],
   "source": [
    "from vamsl.models.graph import ErdosReniDAGDistribution, ScaleFreeDAGDistribution, UniformDAGDistributionRejection\n",
    "from vamsl.models import MixtureLinearGaussian, MixtureDenseNonlinearGaussian\n",
    "from vamsl.models import LinearGaussian, DenseNonlinearGaussian\n",
    "from vamsl.target import make_graph_model\n",
    "\n",
    "# BN settings\n",
    "n_vars = X.shape[1] # number of variables in each component BN\n",
    "struct_eq_type = 'linear' # BN function class: 'linear' or 'nonlinear'\n",
    "graph_type = 'er' # Random graph structure: 'sf' (scale-free) or 'er' (Erdos-Renyi)\n",
    "\n",
    "# Derived variables\n",
    "n_components = len(jnp.unique(indicator))\n",
    "linear = True if struct_eq_type == 'linear' else False\n",
    "\n",
    "# Model specification \n",
    "graph_model = make_graph_model(n_vars=n_vars, graph_prior_str=graph_type, edges_per_node=2)\n",
    "lik = MixtureLinearGaussian(n_vars=n_vars, obs_noise=0.1)  \n",
    "component_lik = LinearGaussian(n_vars=n_vars, obs_noise=0.1)#, hidden_layers=(5,))"
   ]
  },
  {
   "cell_type": "code",
   "execution_count": 7,
   "id": "7f8bc36f-f45a-4498-95de-c9efec994225",
   "metadata": {
    "tags": []
   },
   "outputs": [
    {
     "name": "stdout",
     "output_type": "stream",
     "text": [
      "Posterior shapes:\n",
      "q_z:     (2, 7, 11, 11, 2)\n",
      "q_theta: (2, 7, 11, 11)\n",
      "log_q_c: (7466, 2)\n",
      "q_pi:    (2,)\n"
     ]
    }
   ],
   "source": [
    "from vamsl.inference import VaMSL\n",
    "\n",
    "# Create VaMSL and initialize posteriors\n",
    "vamsl = VaMSL(x=X, graph_model=graph_model, mixture_likelihood_model=lik, component_likelihood_model=component_lik)\n",
    "key, subk = random.split(key)\n",
    "vamsl.initialize_posteriors(key=subk, n_components=n_components, n_particles=7, linear=linear)\n",
    "\n",
    "print('Posterior shapes:')\n",
    "posts = vamsl.get_posteriors()\n",
    "print('q_z:     ' + str(posts[0].shape)) # [n_components, n_particls, d, l, 2]\n",
    "print('q_theta: ' + str(posts[1].shape)) if linear else print('q_theta: ' + str(len(posts[1]))) # leading dim of n_components\n",
    "print('log_q_c: ' + str(posts[2].shape)) # [n_observations, n_components]\n",
    "print('q_pi:    ' + str(posts[3].shape)) # [n_components,]"
   ]
  },
  {
   "cell_type": "code",
   "execution_count": 13,
   "id": "e78b8a1a-6539-4918-909b-9fe0b7f9336d",
   "metadata": {
    "tags": []
   },
   "outputs": [],
   "source": [
    "from sklearn.metrics import classification_report, confusion_matrix\n",
    "# CAVI and SVGD vars\n",
    "n_cavi_updates, steps = 0, 100\n",
    "\n",
    "# CAVI-loop\n",
    "for cavi_update in range(n_cavi_updates):\n",
    "    key, subk = random.split(key)\n",
    "    # Optimize q(Z, \\Theta)\n",
    "    vamsl.update_particle_posteriors(key=subk, steps=steps, callback_every=steps,\n",
    "                                     callback=vamsl.visualize_callback(), linear=linear)\n",
    "\n",
    "    # Update to optimal q(c) and q(\\pi)\n",
    "    vamsl.update_responsibilities_and_weights()\n",
    "    print(f'CAVI update number {cavi_update+1}/{n_cavi_updates}')\n",
    "    \n",
    "    # Print current clustering\n",
    "    order = vamsl.identify_MAP_classification_ordering(ground_truth_indicator=indicator)\n",
    "    y_pred = [order[k] for k in [jnp.argmax(c_i) for c_i in vamsl.get_posteriors()[2]]]\n",
    "    print('MAP clustering: \\n', confusion_matrix(indicator, y_pred))\n",
    "    \n",
    "# Final CAVI update with more SVGD steps to ensure annealing unto acyclic graphs\n",
    "key, subk = random.split(key)\n",
    "#vamsl.update_particle_posteriors(key=subk, steps=1000, callback_every=200, callback=vamsl.visualize_callback(), linear=linear)\n",
    "vamsl.update_responsibilities_and_weights()"
   ]
  },
  {
   "cell_type": "code",
   "execution_count": 14,
   "id": "0f69c09d-1556-4f1c-8048-a0385eb6b5f2",
   "metadata": {
    "tags": []
   },
   "outputs": [
    {
     "name": "stdout",
     "output_type": "stream",
     "text": [
      "Optimal order:\n",
      "[0 1]\n"
     ]
    }
   ],
   "source": [
    "# Compute optimal ordering with respect to MAP classification accuracy\n",
    "order = vamsl.identify_MAP_classification_ordering(ground_truth_indicator=indicator)\n",
    "print('Optimal order:')\n",
    "print(order)"
   ]
  },
  {
   "cell_type": "code",
   "execution_count": 15,
   "id": "e7deae23-fd76-4a13-87bb-01c019cd5b4f",
   "metadata": {
    "tags": []
   },
   "outputs": [
    {
     "name": "stdout",
     "output_type": "stream",
     "text": [
      "Sums of responsibilities:\n",
      "[3733. 3733.]\n",
      "Sum of entropy of responsibilities:\n",
      "0.0\n",
      "Classification report:\n",
      "              precision    recall  f1-score   support\n",
      "\n",
      " Component 1       0.99      1.00      0.99      3706\n",
      " Component 2       1.00      0.99      0.99      3760\n",
      "\n",
      "    accuracy                           0.99      7466\n",
      "   macro avg       0.99      0.99      0.99      7466\n",
      "weighted avg       0.99      0.99      0.99      7466\n",
      "\n"
     ]
    },
    {
     "data": {
      "text/plain": [
       "array([[3700,    6],\n",
       "       [  33, 3727]])"
      ]
     },
     "execution_count": 15,
     "metadata": {},
     "output_type": "execute_result"
    }
   ],
   "source": [
    "from sklearn.metrics import classification_report, confusion_matrix\n",
    "\n",
    "print('Sums of responsibilities:')\n",
    "print(jnp.sum(jnp.exp(vamsl.get_posteriors()[2]), axis=0))\n",
    "print('Sum of entropy of responsibilities:')\n",
    "print(jnp.sum(jnp.exp(vamsl.get_posteriors()[2])*vamsl.get_posteriors()[2]))\n",
    "y_true, order = indicator, vamsl.identify_MAP_classification_ordering(ground_truth_indicator=indicator)\n",
    "y_pred = [order[k] for k in [jnp.argmax(c_i) for c_i in vamsl.get_posteriors()[2]]]\n",
    "if n_components==2:\n",
    "    print('Classification report:')\n",
    "    print(classification_report(y_true=y_true, y_pred=y_pred, target_names=['Component 1', 'Component 2']))\n",
    "confusion_matrix(y_true, y_pred)"
   ]
  },
  {
   "cell_type": "code",
   "execution_count": 10,
   "id": "852fd1b0-b6de-4178-99e0-b8b909fded81",
   "metadata": {
    "tags": []
   },
   "outputs": [
    {
     "name": "stdout",
     "output_type": "stream",
     "text": [
      "Sums of responsibilities:\n",
      "[522. 478.]\n",
      "Sum of entropy of responsibilities:\n",
      "0.0\n",
      "Classification report:\n",
      "              precision    recall  f1-score   support\n",
      "\n",
      " Component 1       0.98      0.96      0.97       489\n",
      " Component 2       0.96      0.98      0.97       511\n",
      "\n",
      "    accuracy                           0.97      1000\n",
      "   macro avg       0.97      0.97      0.97      1000\n",
      "weighted avg       0.97      0.97      0.97      1000\n",
      "\n"
     ]
    },
    {
     "data": {
      "text/plain": [
       "array([[470,  19],\n",
       "       [  8, 503]])"
      ]
     },
     "execution_count": 10,
     "metadata": {},
     "output_type": "execute_result"
    }
   ],
   "source": [
    "from sklearn.metrics import classification_report, confusion_matrix\n",
    "\n",
    "print('Sums of responsibilities:')\n",
    "print(jnp.sum(jnp.exp(vamsl.get_posteriors()[2]), axis=0))\n",
    "print('Sum of entropy of responsibilities:')\n",
    "print(jnp.sum(jnp.exp(vamsl.get_posteriors()[2])*vamsl.get_posteriors()[2]))\n",
    "y_true, order = indicator, vamsl.identify_MAP_classification_ordering(ground_truth_indicator=indicator)\n",
    "y_pred = [order[k] for k in [jnp.argmax(c_i) for c_i in vamsl.get_posteriors()[2]]]\n",
    "if n_components==2:\n",
    "    print('Classification report:')\n",
    "    print(classification_report(y_true=y_true, y_pred=y_pred, target_names=['Component 1', 'Component 2']))\n",
    "confusion_matrix(y_true, y_pred)"
   ]
  },
  {
   "cell_type": "code",
   "execution_count": 16,
   "id": "b7592924-49cd-45be-85b5-d58b4c53b612",
   "metadata": {
    "tags": []
   },
   "outputs": [
    {
     "name": "stdout",
     "output_type": "stream",
     "text": [
      " Component    1 |  E-SHD: 29.0    AUROC:  0.55\n",
      " Component    2 |  E-SHD: 31.5    AUROC:  0.48\n"
     ]
    }
   ],
   "source": [
    "from vamsl.metrics import expected_shd, threshold_metrics, neg_ave_log_likelihood\n",
    "\n",
    "# Get component datasets\n",
    "datas = [X[(indicator==k).flatten(),:] for k in range(n_components)]\n",
    "\n",
    "# Loop over components and calculate metrics\n",
    "for k, data, q_z_k, q_theta_k in zip(range(n_components), datas, vamsl.get_posteriors()[0], vamsl.get_posteriors()[1]):\n",
    "    # Get particle distribution for component\n",
    "    q_g_k = vamsl.particle_to_g_lim(q_z_k, vamsl.get_E()[order[k]])\n",
    "    dist = vamsl.get_empirical(q_g_k, q_theta_k)\n",
    "    \n",
    "    # Calculate metrics\n",
    "    eshd = expected_shd(dist=dist, g=ground_truth_graphs[order[k]])       \n",
    "    auroc = threshold_metrics(dist=dist, g=ground_truth_graphs[order[k]])['roc_auc']\n",
    "    #negll = neg_ave_log_likelihood(dist=dist, eltwise_log_likelihood=vamsl.eltwise_component_log_likelihood_observ, x=data.x_ho)\n",
    "    \n",
    "    print(f' Component {k+1:4d} |  E-SHD: {eshd:4.1f}    AUROC: {auroc:5.2f}')#    neg. LL {negll:5.2f}')"
   ]
  },
  {
   "cell_type": "markdown",
   "id": "9c4b3545-6bca-491e-8144-918b4d8b0deb",
   "metadata": {},
   "source": [
    "### Performance of DiBS"
   ]
  },
  {
   "cell_type": "code",
   "execution_count": 10,
   "id": "cc527689-d544-40d8-89a8-123c8b5cc30d",
   "metadata": {
    "tags": []
   },
   "outputs": [
    {
     "name": "stdout",
     "output_type": "stream",
     "text": [
      " Component    1 |  E-SHD: 21.0    AUROC:  0.54\n"
     ]
    }
   ],
   "source": [
    "from vamsl.metrics import expected_shd, threshold_metrics, neg_ave_log_likelihood\n",
    "\n",
    "# Get component datasets\n",
    "datas = [X[(indicator==k).flatten(),:] for k in range(n_components)]\n",
    "\n",
    "# Loop over components and calculate metrics\n",
    "for k, data, q_z_k, q_theta_k in zip(range(n_components), datas, vamsl.get_posteriors()[0], vamsl.get_posteriors()[1]):\n",
    "    # Get particle distribution for component\n",
    "    q_g_k = vamsl.particle_to_g_lim(q_z_k, vamsl.get_E()[order[k]])\n",
    "    dist = vamsl.get_empirical(q_g_k, q_theta_k)\n",
    "    \n",
    "    # Calculate metrics\n",
    "    eshd = expected_shd(dist=dist, g=ground_truth_graphs[order[k]])       \n",
    "    auroc = threshold_metrics(dist=dist, g=ground_truth_graphs[order[k]])['roc_auc']\n",
    "    #negll = neg_ave_log_likelihood(dist=dist, eltwise_log_likelihood=vamsl.eltwise_component_log_likelihood_observ, x=data.x_ho)\n",
    "    \n",
    "    print(f' Component {k+1:4d} |  E-SHD: {eshd:4.1f}    AUROC: {auroc:5.2f}')#    neg. LL {negll:5.2f}')"
   ]
  }
 ],
 "metadata": {
  "kernelspec": {
   "display_name": "Python 3",
   "language": "python",
   "name": "python3"
  },
  "language_info": {
   "codemirror_mode": {
    "name": "ipython",
    "version": 3
   },
   "file_extension": ".py",
   "mimetype": "text/x-python",
   "name": "python",
   "nbconvert_exporter": "python",
   "pygments_lexer": "ipython3",
   "version": "3.10.12"
  }
 },
 "nbformat": 4,
 "nbformat_minor": 5
}
