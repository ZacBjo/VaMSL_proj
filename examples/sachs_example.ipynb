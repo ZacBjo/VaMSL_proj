{
 "cells": [
  {
   "cell_type": "markdown",
   "id": "42100c02-d1da-42d5-abb3-07a6547ea2c4",
   "metadata": {},
   "source": [
    "### Sachs data\n",
    "\n",
    "[Sachs Protein Data](https://perso.univ-rennes1.fr/valerie.monbet/GM/Sachs.html)"
   ]
  },
  {
   "cell_type": "code",
   "execution_count": 2,
   "id": "40b3101e-bc4c-4a2d-a913-2407a6f8088c",
   "metadata": {
    "tags": []
   },
   "outputs": [
    {
     "name": "stdout",
     "output_type": "stream",
     "text": [
      "JAX backend: cpu\n"
     ]
    }
   ],
   "source": [
    "%pip install ../. \n",
    "%pip install cdt\n",
    "from cdt.data import load_dataset\n",
    "import networkx as nx\n",
    "import jax\n",
    "import jax.numpy as jnp\n",
    "import jax.random as random\n",
    "import numpy as np\n",
    "import pandas as pd\n",
    "from sklearn.preprocessing import StandardScaler\n",
    "\n",
    "print(f\"JAX backend: {jax.default_backend()}\")\n",
    "key=random.PRNGKey(343)\n",
    "\n",
    "def permute_random_rows(key, X, p=0.5):\n",
    "    key, subk = random.split(key)\n",
    "    permutation = random.permutation(subk, jnp.arange(X.shape[1]))\n",
    "    \n",
    "    key, subk = random.split(key)\n",
    "    permute = random.bernoulli(subk, p=jnp.float32(p), shape=(X.shape[0],))\n",
    "\n",
    "    [X := X.at[i,:].set(X[i,permutation]) for i in range(X.shape[0]) if permute[i]]\n",
    "    \n",
    "    return X, permute, permutation\n",
    "\n",
    "def permute_directed_graph(graph, permutation):\n",
    "    g, perm, perm_g = graph, permutation, jnp.zeros_like(graph)\n",
    "    for i in range(g.shape[0]):\n",
    "        for j in range(g.shape[1]):\n",
    "                perm_g = perm_g.at[i,j].set(g[perm[i],perm[j]])\n",
    "                \n",
    "    return perm_g"
   ]
  },
  {
   "cell_type": "code",
   "execution_count": 4,
   "id": "abe2ebcc-94cf-486d-a41b-6969a0c965e2",
   "metadata": {
    "tags": []
   },
   "outputs": [
    {
     "name": "stdout",
     "output_type": "stream",
     "text": [
      "Adjacency matrix: \n",
      " [[0. 1. 0. 1. 0. 0. 0. 0. 0. 0. 0.]\n",
      " [0. 0. 0. 0. 1. 1. 0. 1. 1. 0. 0.]\n",
      " [1. 1. 0. 0. 0. 0. 0. 0. 0. 0. 0.]\n",
      " [0. 0. 1. 0. 0. 0. 0. 0. 0. 0. 1.]\n",
      " [0. 0. 0. 0. 0. 0. 0. 0. 0. 0. 0.]\n",
      " [0. 0. 0. 0. 0. 0. 0. 0. 0. 0. 0.]\n",
      " [0. 0. 0. 0. 1. 1. 0. 1. 1. 1. 1.]\n",
      " [0. 0. 0. 0. 0. 0. 0. 0. 1. 0. 0.]\n",
      " [0. 0. 0. 0. 0. 0. 0. 0. 0. 1. 0.]\n",
      " [0. 0. 0. 0. 0. 0. 0. 0. 0. 0. 0.]\n",
      " [0. 0. 0. 0. 0. 0. 0. 0. 0. 0. 0.]]\n",
      "Data shape: \n",
      " (853, 11)\n"
     ]
    }
   ],
   "source": [
    "# Load the graph and data\n",
    "sachs_data, sachs_graph = load_dataset(\"sachs\")\n",
    "\n",
    "adjacency = jnp.array(nx.to_numpy_array(sachs_graph))\n",
    "print('Adjacency matrix: \\n', adjacency)\n",
    "\n",
    "data = jnp.array(sachs_data.values)[:853,:]\n",
    "print('Data shape: \\n', data.shape)"
   ]
  },
  {
   "cell_type": "code",
   "execution_count": 5,
   "id": "beb31be4-654a-4473-ae81-d2084784d043",
   "metadata": {
    "tags": []
   },
   "outputs": [
    {
     "data": {
      "image/png": "[encoded data removed]",
      "text/plain": [
       "<Figure size 640x480 with 1 Axes>"
      ]
     },
     "metadata": {},
     "output_type": "display_data"
    }
   ],
   "source": [
    "# take log of data and check \n",
    "logdata = jnp.log(data) \n",
    "_=pd.DataFrame(logdata[:,0]).hist()"
   ]
  },
  {
   "cell_type": "code",
   "execution_count": 6,
   "id": "49b2b5df-6015-4181-a0dc-08e6adb08fe6",
   "metadata": {
    "tags": []
   },
   "outputs": [
    {
     "name": "stdout",
     "output_type": "stream",
     "text": [
      "Permuted data shape: \n",
      " (853, 11)\n",
      "Permutation: \n",
      " [ 2  4  9  6  7  8 10  5  3  0  1]\n",
      "Ground truth graphs: \n",
      "\n"
     ]
    },
    {
     "data": {
      "image/png": "[encoded data removed]",
      "text/plain": [
       "<Figure size 800x400 with 2 Axes>"
      ]
     },
     "metadata": {},
     "output_type": "display_data"
    }
   ],
   "source": [
    "from vamsl.utils import visualize_ground_truths\n",
    "\n",
    "# Permute data subset\n",
    "logdata = jnp.log(data)[0:853,:]\n",
    "key, subk = random.split(key)\n",
    "perm_data, indicator, permutation = permute_random_rows(subk, logdata, p=0.5)\n",
    "\n",
    "print('Permuted data shape: \\n', perm_data.shape)\n",
    "print('Permutation: \\n', permutation)\n",
    "\n",
    "ground_truth_graphs = [adjacency, permute_directed_graph(adjacency, permutation)]\n",
    "print('Ground truth graphs: \\n')\n",
    "visualize_ground_truths(ground_truth_graphs)"
   ]
  },
  {
   "cell_type": "code",
   "execution_count": 7,
   "id": "44518e46-df72-421f-a625-03383dbfcd77",
   "metadata": {
    "tags": []
   },
   "outputs": [
    {
     "name": "stdout",
     "output_type": "stream",
     "text": [
      "Observed data shape: \n",
      " (683, 11)\n",
      "Left-out data shape: \n",
      " (170, 11)\n"
     ]
    }
   ],
   "source": [
    "# Process data\n",
    "key, subk = random.split(key)\n",
    "observed = random.bernoulli(subk, p=jnp.float32(0.8), shape=(perm_data.shape[0],))\n",
    "\n",
    "X, X_lo = perm_data[observed], perm_data[~observed]\n",
    "sc =  StandardScaler()\n",
    "X, X_lo = sc.fit_transform(X), sc.transform(X_lo)\n",
    "\n",
    "X_indicator, X_lo_indicator = indicator[observed],  indicator[~observed]\n",
    "\n",
    "print('Observed data shape: \\n', X.shape)\n",
    "print('Left-out data shape: \\n', X_lo.shape)"
   ]
  },
  {
   "cell_type": "code",
   "execution_count": 8,
   "id": "171174f8-6004-4b47-a4ab-6fc7077186fb",
   "metadata": {
    "tags": []
   },
   "outputs": [
    {
     "data": {
      "text/html": [
       "<div>\n",
       "<style scoped>\n",
       "    .dataframe tbody tr th:only-of-type {\n",
       "        vertical-align: middle;\n",
       "    }\n",
       "\n",
       "    .dataframe tbody tr th {\n",
       "        vertical-align: top;\n",
       "    }\n",
       "\n",
       "    .dataframe thead th {\n",
       "        text-align: right;\n",
       "    }\n",
       "</style>\n",
       "<table border=\"1\" class=\"dataframe\">\n",
       "  <thead>\n",
       "    <tr style=\"text-align: right;\">\n",
       "      <th></th>\n",
       "      <th>0</th>\n",
       "      <th>1</th>\n",
       "      <th>2</th>\n",
       "      <th>3</th>\n",
       "      <th>4</th>\n",
       "      <th>5</th>\n",
       "      <th>6</th>\n",
       "      <th>7</th>\n",
       "      <th>8</th>\n",
       "      <th>9</th>\n",
       "      <th>10</th>\n",
       "    </tr>\n",
       "  </thead>\n",
       "  <tbody>\n",
       "    <tr>\n",
       "      <th>count</th>\n",
       "      <td>6.830000e+02</td>\n",
       "      <td>6.830000e+02</td>\n",
       "      <td>6.830000e+02</td>\n",
       "      <td>6.830000e+02</td>\n",
       "      <td>6.830000e+02</td>\n",
       "      <td>6.830000e+02</td>\n",
       "      <td>6.830000e+02</td>\n",
       "      <td>6.830000e+02</td>\n",
       "      <td>6.830000e+02</td>\n",
       "      <td>6.830000e+02</td>\n",
       "      <td>6.830000e+02</td>\n",
       "    </tr>\n",
       "    <tr>\n",
       "      <th>mean</th>\n",
       "      <td>1.675562e-08</td>\n",
       "      <td>-1.117042e-08</td>\n",
       "      <td>2.792604e-09</td>\n",
       "      <td>6.283359e-09</td>\n",
       "      <td>-3.839831e-09</td>\n",
       "      <td>2.792604e-09</td>\n",
       "      <td>9.774115e-09</td>\n",
       "      <td>8.377812e-09</td>\n",
       "      <td>-2.792604e-09</td>\n",
       "      <td>-2.792604e-09</td>\n",
       "      <td>2.792604e-09</td>\n",
       "    </tr>\n",
       "    <tr>\n",
       "      <th>std</th>\n",
       "      <td>1.000733e+00</td>\n",
       "      <td>1.000732e+00</td>\n",
       "      <td>1.000732e+00</td>\n",
       "      <td>1.000733e+00</td>\n",
       "      <td>1.000733e+00</td>\n",
       "      <td>1.000733e+00</td>\n",
       "      <td>1.000733e+00</td>\n",
       "      <td>1.000733e+00</td>\n",
       "      <td>1.000733e+00</td>\n",
       "      <td>1.000732e+00</td>\n",
       "      <td>1.000733e+00</td>\n",
       "    </tr>\n",
       "    <tr>\n",
       "      <th>min</th>\n",
       "      <td>-3.808854e+00</td>\n",
       "      <td>-4.115134e+00</td>\n",
       "      <td>-4.260251e+00</td>\n",
       "      <td>-2.490951e+00</td>\n",
       "      <td>-2.665147e+00</td>\n",
       "      <td>-2.858577e+00</td>\n",
       "      <td>-3.738360e+00</td>\n",
       "      <td>-2.176283e+00</td>\n",
       "      <td>-2.532769e+00</td>\n",
       "      <td>-4.774830e+00</td>\n",
       "      <td>-3.794764e+00</td>\n",
       "    </tr>\n",
       "    <tr>\n",
       "      <th>25%</th>\n",
       "      <td>-6.631817e-01</td>\n",
       "      <td>-5.830964e-01</td>\n",
       "      <td>-5.089300e-01</td>\n",
       "      <td>-7.068407e-01</td>\n",
       "      <td>-8.809380e-01</td>\n",
       "      <td>-5.330938e-01</td>\n",
       "      <td>-6.297362e-01</td>\n",
       "      <td>-8.867029e-01</td>\n",
       "      <td>-5.259213e-01</td>\n",
       "      <td>-6.438258e-01</td>\n",
       "      <td>-5.390702e-01</td>\n",
       "    </tr>\n",
       "    <tr>\n",
       "      <th>50%</th>\n",
       "      <td>5.582034e-02</td>\n",
       "      <td>1.258524e-03</td>\n",
       "      <td>7.570880e-02</td>\n",
       "      <td>-1.925092e-01</td>\n",
       "      <td>-5.209684e-02</td>\n",
       "      <td>1.561078e-01</td>\n",
       "      <td>-3.873385e-02</td>\n",
       "      <td>1.243842e-01</td>\n",
       "      <td>-3.908803e-02</td>\n",
       "      <td>2.538992e-02</td>\n",
       "      <td>-4.737192e-02</td>\n",
       "    </tr>\n",
       "    <tr>\n",
       "      <th>75%</th>\n",
       "      <td>7.266361e-01</td>\n",
       "      <td>6.396360e-01</td>\n",
       "      <td>6.489277e-01</td>\n",
       "      <td>6.397110e-01</td>\n",
       "      <td>8.787253e-01</td>\n",
       "      <td>6.629165e-01</td>\n",
       "      <td>5.818537e-01</td>\n",
       "      <td>8.818751e-01</td>\n",
       "      <td>6.445429e-01</td>\n",
       "      <td>7.146143e-01</td>\n",
       "      <td>5.099663e-01</td>\n",
       "    </tr>\n",
       "    <tr>\n",
       "      <th>max</th>\n",
       "      <td>3.037345e+00</td>\n",
       "      <td>5.066587e+00</td>\n",
       "      <td>2.871720e+00</td>\n",
       "      <td>5.000125e+00</td>\n",
       "      <td>2.240486e+00</td>\n",
       "      <td>3.063869e+00</td>\n",
       "      <td>2.781589e+00</td>\n",
       "      <td>1.855730e+00</td>\n",
       "      <td>2.503200e+00</td>\n",
       "      <td>4.095984e+00</td>\n",
       "      <td>3.322771e+00</td>\n",
       "    </tr>\n",
       "  </tbody>\n",
       "</table>\n",
       "</div>"
      ],
      "text/plain": [
       "                 0             1             2             3             4   \\\n",
       "count  6.830000e+02  6.830000e+02  6.830000e+02  6.830000e+02  6.830000e+02   \n",
       "mean   1.675562e-08 -1.117042e-08  2.792604e-09  6.283359e-09 -3.839831e-09   \n",
       "std    1.000733e+00  1.000732e+00  1.000732e+00  1.000733e+00  1.000733e+00   \n",
       "min   -3.808854e+00 -4.115134e+00 -4.260251e+00 -2.490951e+00 -2.665147e+00   \n",
       "25%   -6.631817e-01 -5.830964e-01 -5.089300e-01 -7.068407e-01 -8.809380e-01   \n",
       "50%    5.582034e-02  1.258524e-03  7.570880e-02 -1.925092e-01 -5.209684e-02   \n",
       "75%    7.266361e-01  6.396360e-01  6.489277e-01  6.397110e-01  8.787253e-01   \n",
       "max    3.037345e+00  5.066587e+00  2.871720e+00  5.000125e+00  2.240486e+00   \n",
       "\n",
       "                 5             6             7             8             9   \\\n",
       "count  6.830000e+02  6.830000e+02  6.830000e+02  6.830000e+02  6.830000e+02   \n",
       "mean   2.792604e-09  9.774115e-09  8.377812e-09 -2.792604e-09 -2.792604e-09   \n",
       "std    1.000733e+00  1.000733e+00  1.000733e+00  1.000733e+00  1.000732e+00   \n",
       "min   -2.858577e+00 -3.738360e+00 -2.176283e+00 -2.532769e+00 -4.774830e+00   \n",
       "25%   -5.330938e-01 -6.297362e-01 -8.867029e-01 -5.259213e-01 -6.438258e-01   \n",
       "50%    1.561078e-01 -3.873385e-02  1.243842e-01 -3.908803e-02  2.538992e-02   \n",
       "75%    6.629165e-01  5.818537e-01  8.818751e-01  6.445429e-01  7.146143e-01   \n",
       "max    3.063869e+00  2.781589e+00  1.855730e+00  2.503200e+00  4.095984e+00   \n",
       "\n",
       "                 10  \n",
       "count  6.830000e+02  \n",
       "mean   2.792604e-09  \n",
       "std    1.000733e+00  \n",
       "min   -3.794764e+00  \n",
       "25%   -5.390702e-01  \n",
       "50%   -4.737192e-02  \n",
       "75%    5.099663e-01  \n",
       "max    3.322771e+00  "
      ]
     },
     "execution_count": 8,
     "metadata": {},
     "output_type": "execute_result"
    }
   ],
   "source": [
    "pd.DataFrame(X).describe()"
   ]
  },
  {
   "cell_type": "code",
   "execution_count": 9,
   "id": "9526d8db-2e3d-4027-98a0-36d2ac5d5842",
   "metadata": {
    "tags": []
   },
   "outputs": [
    {
     "data": {
      "text/html": [
       "<div>\n",
       "<style scoped>\n",
       "    .dataframe tbody tr th:only-of-type {\n",
       "        vertical-align: middle;\n",
       "    }\n",
       "\n",
       "    .dataframe tbody tr th {\n",
       "        vertical-align: top;\n",
       "    }\n",
       "\n",
       "    .dataframe thead th {\n",
       "        text-align: right;\n",
       "    }\n",
       "</style>\n",
       "<table border=\"1\" class=\"dataframe\">\n",
       "  <thead>\n",
       "    <tr style=\"text-align: right;\">\n",
       "      <th></th>\n",
       "      <th>0</th>\n",
       "      <th>1</th>\n",
       "      <th>2</th>\n",
       "      <th>3</th>\n",
       "      <th>4</th>\n",
       "      <th>5</th>\n",
       "      <th>6</th>\n",
       "      <th>7</th>\n",
       "      <th>8</th>\n",
       "      <th>9</th>\n",
       "      <th>10</th>\n",
       "    </tr>\n",
       "  </thead>\n",
       "  <tbody>\n",
       "    <tr>\n",
       "      <th>count</th>\n",
       "      <td>344.000000</td>\n",
       "      <td>344.000000</td>\n",
       "      <td>344.000000</td>\n",
       "      <td>344.000000</td>\n",
       "      <td>344.000000</td>\n",
       "      <td>344.000000</td>\n",
       "      <td>344.000000</td>\n",
       "      <td>344.000000</td>\n",
       "      <td>344.000000</td>\n",
       "      <td>344.000000</td>\n",
       "      <td>344.000000</td>\n",
       "    </tr>\n",
       "    <tr>\n",
       "      <th>mean</th>\n",
       "      <td>0.658856</td>\n",
       "      <td>0.047237</td>\n",
       "      <td>-0.434868</td>\n",
       "      <td>0.260948</td>\n",
       "      <td>-0.877204</td>\n",
       "      <td>0.160265</td>\n",
       "      <td>0.167609</td>\n",
       "      <td>0.901747</td>\n",
       "      <td>-0.616326</td>\n",
       "      <td>-0.331953</td>\n",
       "      <td>-0.003770</td>\n",
       "    </tr>\n",
       "    <tr>\n",
       "      <th>std</th>\n",
       "      <td>0.715613</td>\n",
       "      <td>0.886919</td>\n",
       "      <td>1.006292</td>\n",
       "      <td>1.125287</td>\n",
       "      <td>0.503208</td>\n",
       "      <td>0.932931</td>\n",
       "      <td>0.784282</td>\n",
       "      <td>0.385226</td>\n",
       "      <td>0.768189</td>\n",
       "      <td>0.845357</td>\n",
       "      <td>1.226143</td>\n",
       "    </tr>\n",
       "    <tr>\n",
       "      <th>min</th>\n",
       "      <td>-2.018734</td>\n",
       "      <td>-4.115134</td>\n",
       "      <td>-4.260251</td>\n",
       "      <td>-2.490951</td>\n",
       "      <td>-2.665147</td>\n",
       "      <td>-2.858577</td>\n",
       "      <td>-3.130732</td>\n",
       "      <td>-1.393755</td>\n",
       "      <td>-2.532769</td>\n",
       "      <td>-2.888670</td>\n",
       "      <td>-3.794764</td>\n",
       "    </tr>\n",
       "    <tr>\n",
       "      <th>25%</th>\n",
       "      <td>0.301452</td>\n",
       "      <td>-0.451953</td>\n",
       "      <td>-0.844674</td>\n",
       "      <td>-0.687739</td>\n",
       "      <td>-1.165605</td>\n",
       "      <td>-0.409810</td>\n",
       "      <td>-0.288062</td>\n",
       "      <td>0.711162</td>\n",
       "      <td>-1.142915</td>\n",
       "      <td>-0.850313</td>\n",
       "      <td>-0.775570</td>\n",
       "    </tr>\n",
       "    <tr>\n",
       "      <th>50%</th>\n",
       "      <td>0.687029</td>\n",
       "      <td>-0.010707</td>\n",
       "      <td>-0.325830</td>\n",
       "      <td>0.218976</td>\n",
       "      <td>-0.851571</td>\n",
       "      <td>0.249160</td>\n",
       "      <td>0.163994</td>\n",
       "      <td>0.872854</td>\n",
       "      <td>-0.414747</td>\n",
       "      <td>-0.304720</td>\n",
       "      <td>-0.166822</td>\n",
       "    </tr>\n",
       "    <tr>\n",
       "      <th>75%</th>\n",
       "      <td>1.115774</td>\n",
       "      <td>0.535452</td>\n",
       "      <td>0.150137</td>\n",
       "      <td>1.130389</td>\n",
       "      <td>-0.550992</td>\n",
       "      <td>0.738072</td>\n",
       "      <td>0.565961</td>\n",
       "      <td>1.123655</td>\n",
       "      <td>-0.054165</td>\n",
       "      <td>0.136498</td>\n",
       "      <td>1.036885</td>\n",
       "    </tr>\n",
       "    <tr>\n",
       "      <th>max</th>\n",
       "      <td>3.037345</td>\n",
       "      <td>3.803489</td>\n",
       "      <td>2.813328</td>\n",
       "      <td>3.414692</td>\n",
       "      <td>0.529391</td>\n",
       "      <td>3.063869</td>\n",
       "      <td>2.781589</td>\n",
       "      <td>1.855730</td>\n",
       "      <td>1.246220</td>\n",
       "      <td>2.146075</td>\n",
       "      <td>3.172570</td>\n",
       "    </tr>\n",
       "  </tbody>\n",
       "</table>\n",
       "</div>"
      ],
      "text/plain": [
       "               0           1           2           3           4           5   \\\n",
       "count  344.000000  344.000000  344.000000  344.000000  344.000000  344.000000   \n",
       "mean     0.658856    0.047237   -0.434868    0.260948   -0.877204    0.160265   \n",
       "std      0.715613    0.886919    1.006292    1.125287    0.503208    0.932931   \n",
       "min     -2.018734   -4.115134   -4.260251   -2.490951   -2.665147   -2.858577   \n",
       "25%      0.301452   -0.451953   -0.844674   -0.687739   -1.165605   -0.409810   \n",
       "50%      0.687029   -0.010707   -0.325830    0.218976   -0.851571    0.249160   \n",
       "75%      1.115774    0.535452    0.150137    1.130389   -0.550992    0.738072   \n",
       "max      3.037345    3.803489    2.813328    3.414692    0.529391    3.063869   \n",
       "\n",
       "               6           7           8           9           10  \n",
       "count  344.000000  344.000000  344.000000  344.000000  344.000000  \n",
       "mean     0.167609    0.901747   -0.616326   -0.331953   -0.003770  \n",
       "std      0.784282    0.385226    0.768189    0.845357    1.226143  \n",
       "min     -3.130732   -1.393755   -2.532769   -2.888670   -3.794764  \n",
       "25%     -0.288062    0.711162   -1.142915   -0.850313   -0.775570  \n",
       "50%      0.163994    0.872854   -0.414747   -0.304720   -0.166822  \n",
       "75%      0.565961    1.123655   -0.054165    0.136498    1.036885  \n",
       "max      2.781589    1.855730    1.246220    2.146075    3.172570  "
      ]
     },
     "execution_count": 9,
     "metadata": {},
     "output_type": "execute_result"
    }
   ],
   "source": [
    "# Unpermuted data set\n",
    "pd.DataFrame(X[~X_indicator,:]).describe()"
   ]
  },
  {
   "cell_type": "code",
   "execution_count": 10,
   "id": "fe39a43d-be34-494c-bef9-fe072284bbb0",
   "metadata": {
    "tags": []
   },
   "outputs": [
    {
     "data": {
      "text/html": [
       "<div>\n",
       "<style scoped>\n",
       "    .dataframe tbody tr th:only-of-type {\n",
       "        vertical-align: middle;\n",
       "    }\n",
       "\n",
       "    .dataframe tbody tr th {\n",
       "        vertical-align: top;\n",
       "    }\n",
       "\n",
       "    .dataframe thead th {\n",
       "        text-align: right;\n",
       "    }\n",
       "</style>\n",
       "<table border=\"1\" class=\"dataframe\">\n",
       "  <thead>\n",
       "    <tr style=\"text-align: right;\">\n",
       "      <th></th>\n",
       "      <th>0</th>\n",
       "      <th>1</th>\n",
       "      <th>2</th>\n",
       "      <th>3</th>\n",
       "      <th>4</th>\n",
       "      <th>5</th>\n",
       "      <th>6</th>\n",
       "      <th>7</th>\n",
       "      <th>8</th>\n",
       "      <th>9</th>\n",
       "      <th>10</th>\n",
       "    </tr>\n",
       "  </thead>\n",
       "  <tbody>\n",
       "    <tr>\n",
       "      <th>count</th>\n",
       "      <td>339.000000</td>\n",
       "      <td>339.000000</td>\n",
       "      <td>339.000000</td>\n",
       "      <td>339.000000</td>\n",
       "      <td>339.000000</td>\n",
       "      <td>339.000000</td>\n",
       "      <td>339.000000</td>\n",
       "      <td>339.000000</td>\n",
       "      <td>339.000000</td>\n",
       "      <td>339.000000</td>\n",
       "      <td>339.000000</td>\n",
       "    </tr>\n",
       "    <tr>\n",
       "      <th>mean</th>\n",
       "      <td>-0.668574</td>\n",
       "      <td>-0.047933</td>\n",
       "      <td>0.441282</td>\n",
       "      <td>-0.264797</td>\n",
       "      <td>0.890143</td>\n",
       "      <td>-0.162629</td>\n",
       "      <td>-0.170081</td>\n",
       "      <td>-0.915047</td>\n",
       "      <td>0.625416</td>\n",
       "      <td>0.336849</td>\n",
       "      <td>0.003825</td>\n",
       "    </tr>\n",
       "    <tr>\n",
       "      <th>std</th>\n",
       "      <td>0.781615</td>\n",
       "      <td>1.103573</td>\n",
       "      <td>0.778032</td>\n",
       "      <td>0.772063</td>\n",
       "      <td>0.431162</td>\n",
       "      <td>1.041540</td>\n",
       "      <td>1.157112</td>\n",
       "      <td>0.450274</td>\n",
       "      <td>0.801850</td>\n",
       "      <td>1.034194</td>\n",
       "      <td>0.703572</td>\n",
       "    </tr>\n",
       "    <tr>\n",
       "      <th>min</th>\n",
       "      <td>-3.808854</td>\n",
       "      <td>-3.558414</td>\n",
       "      <td>-3.669691</td>\n",
       "      <td>-2.402772</td>\n",
       "      <td>-2.275588</td>\n",
       "      <td>-2.858577</td>\n",
       "      <td>-3.738360</td>\n",
       "      <td>-2.176283</td>\n",
       "      <td>-2.448201</td>\n",
       "      <td>-4.774830</td>\n",
       "      <td>-3.794764</td>\n",
       "    </tr>\n",
       "    <tr>\n",
       "      <th>25%</th>\n",
       "      <td>-1.013222</td>\n",
       "      <td>-0.761616</td>\n",
       "      <td>0.000287</td>\n",
       "      <td>-0.723505</td>\n",
       "      <td>0.697811</td>\n",
       "      <td>-0.891834</td>\n",
       "      <td>-0.864631</td>\n",
       "      <td>-1.182664</td>\n",
       "      <td>-0.035371</td>\n",
       "      <td>-0.166690</td>\n",
       "      <td>-0.385585</td>\n",
       "    </tr>\n",
       "    <tr>\n",
       "      <th>50%</th>\n",
       "      <td>-0.572353</td>\n",
       "      <td>0.001259</td>\n",
       "      <td>0.472144</td>\n",
       "      <td>-0.320540</td>\n",
       "      <td>0.881407</td>\n",
       "      <td>0.036972</td>\n",
       "      <td>-0.319426</td>\n",
       "      <td>-0.886703</td>\n",
       "      <td>0.637315</td>\n",
       "      <td>0.473560</td>\n",
       "      <td>0.003208</td>\n",
       "    </tr>\n",
       "    <tr>\n",
       "      <th>75%</th>\n",
       "      <td>-0.234210</td>\n",
       "      <td>0.677823</td>\n",
       "      <td>0.903446</td>\n",
       "      <td>0.014659</td>\n",
       "      <td>1.104869</td>\n",
       "      <td>0.593537</td>\n",
       "      <td>0.757248</td>\n",
       "      <td>-0.674314</td>\n",
       "      <td>1.246220</td>\n",
       "      <td>0.986788</td>\n",
       "      <td>0.365581</td>\n",
       "    </tr>\n",
       "    <tr>\n",
       "      <th>max</th>\n",
       "      <td>1.978437</td>\n",
       "      <td>5.066587</td>\n",
       "      <td>2.871720</td>\n",
       "      <td>5.000125</td>\n",
       "      <td>2.240486</td>\n",
       "      <td>2.316211</td>\n",
       "      <td>2.443130</td>\n",
       "      <td>1.767521</td>\n",
       "      <td>2.503200</td>\n",
       "      <td>4.095984</td>\n",
       "      <td>3.322771</td>\n",
       "    </tr>\n",
       "  </tbody>\n",
       "</table>\n",
       "</div>"
      ],
      "text/plain": [
       "               0           1           2           3           4           5   \\\n",
       "count  339.000000  339.000000  339.000000  339.000000  339.000000  339.000000   \n",
       "mean    -0.668574   -0.047933    0.441282   -0.264797    0.890143   -0.162629   \n",
       "std      0.781615    1.103573    0.778032    0.772063    0.431162    1.041540   \n",
       "min     -3.808854   -3.558414   -3.669691   -2.402772   -2.275588   -2.858577   \n",
       "25%     -1.013222   -0.761616    0.000287   -0.723505    0.697811   -0.891834   \n",
       "50%     -0.572353    0.001259    0.472144   -0.320540    0.881407    0.036972   \n",
       "75%     -0.234210    0.677823    0.903446    0.014659    1.104869    0.593537   \n",
       "max      1.978437    5.066587    2.871720    5.000125    2.240486    2.316211   \n",
       "\n",
       "               6           7           8           9           10  \n",
       "count  339.000000  339.000000  339.000000  339.000000  339.000000  \n",
       "mean    -0.170081   -0.915047    0.625416    0.336849    0.003825  \n",
       "std      1.157112    0.450274    0.801850    1.034194    0.703572  \n",
       "min     -3.738360   -2.176283   -2.448201   -4.774830   -3.794764  \n",
       "25%     -0.864631   -1.182664   -0.035371   -0.166690   -0.385585  \n",
       "50%     -0.319426   -0.886703    0.637315    0.473560    0.003208  \n",
       "75%      0.757248   -0.674314    1.246220    0.986788    0.365581  \n",
       "max      2.443130    1.767521    2.503200    4.095984    3.322771  "
      ]
     },
     "execution_count": 10,
     "metadata": {},
     "output_type": "execute_result"
    }
   ],
   "source": [
    "# Permuted data set\n",
    "pd.DataFrame(X[X_indicator,:]).describe()"
   ]
  },
  {
   "cell_type": "markdown",
   "id": "afc0a744-1c81-4c72-a003-df964b735e66",
   "metadata": {},
   "source": [
    "### Create VaMSL model"
   ]
  },
  {
   "cell_type": "code",
   "execution_count": 11,
   "id": "3f389cfb-1e3e-4adf-a330-f0646587432c",
   "metadata": {
    "tags": []
   },
   "outputs": [],
   "source": [
    "from vamsl.models.graph import ErdosReniDAGDistribution, ScaleFreeDAGDistribution, UniformDAGDistributionRejection\n",
    "from vamsl.models import MixtureLinearGaussian, MixtureDenseNonlinearGaussian\n",
    "from vamsl.models import LinearGaussian, DenseNonlinearGaussian\n",
    "from vamsl.target import make_graph_model\n",
    "\n",
    "# BN settings\n",
    "n_vars = X.shape[1] # number of variables in each component BN\n",
    "struct_eq_type = 'linear' # BN function class: 'linear' or 'nonlinear'\n",
    "graph_type = 'er' # Random graph structure: 'sf' (scale-free) or 'er' (Erdos-Renyi)\n",
    "\n",
    "# Derived variables\n",
    "n_components = len(jnp.unique(indicator))\n",
    "linear = True if struct_eq_type == 'linear' else False\n",
    "\n",
    "# Model specification \n",
    "graph_model = make_graph_model(n_vars=n_vars, graph_prior_str=graph_type, edges_per_node=2)\n",
    "lik = MixtureLinearGaussian(n_vars=n_vars, obs_noise=0.1)  \n",
    "component_lik = LinearGaussian(n_vars=n_vars, obs_noise=0.1)#, hidden_layers=(5,))"
   ]
  },
  {
   "cell_type": "code",
   "execution_count": 12,
   "id": "7f8bc36f-f45a-4498-95de-c9efec994225",
   "metadata": {
    "tags": []
   },
   "outputs": [
    {
     "name": "stdout",
     "output_type": "stream",
     "text": [
      "Posterior shapes:\n",
      "q_z:     (2, 7, 11, 11, 2)\n",
      "q_theta: (2, 7, 11, 11)\n",
      "log_q_c: (683, 2)\n",
      "q_pi:    (2,)\n"
     ]
    }
   ],
   "source": [
    "from vamsl.inference import VaMSL\n",
    "\n",
    "# Create VaMSL and initialize posteriors\n",
    "vamsl = VaMSL(x=X, graph_model=graph_model, mixture_likelihood_model=lik, component_likelihood_model=component_lik)\n",
    "key, subk = random.split(key)\n",
    "vamsl.initialize_posteriors(key=subk, n_components=n_components, n_particles=7, linear=linear)#, init_q_c=1/2*jnp.ones((X.shape[0],2)))\n",
    "\n",
    "print('Posterior shapes:')\n",
    "posts = vamsl.get_posteriors()\n",
    "print('q_z:     ' + str(posts[0].shape)) # [n_components, n_particls, d, l, 2]\n",
    "print('q_theta: ' + str(posts[1].shape)) if linear else print('q_theta: ' + str(len(posts[1]))) # leading dim of n_components\n",
    "print('log_q_c: ' + str(posts[2].shape)) # [n_observations, n_components]\n",
    "print('q_pi:    ' + str(posts[3].shape)) # [n_components,]"
   ]
  },
  {
   "cell_type": "code",
   "execution_count": null,
   "id": "e78b8a1a-6539-4918-909b-9fe0b7f9336d",
   "metadata": {
    "tags": []
   },
   "outputs": [
    {
     "data": {
      "image/png": "[encoded data removed]",
      "text/plain": [
       "<Figure size 1750x250 with 7 Axes>"
      ]
     },
     "metadata": {},
     "output_type": "display_data"
    },
    {
     "name": "stdout",
     "output_type": "stream",
     "text": [
      "Component   1 | iteration 200 | alpha   10.0 | beta  200.0 | #cyclic   6\n"
     ]
    },
    {
     "data": {
      "image/png": "[encoded data removed]",
      "text/plain": [
       "<Figure size 1750x250 with 7 Axes>"
      ]
     },
     "metadata": {},
     "output_type": "display_data"
    },
    {
     "name": "stdout",
     "output_type": "stream",
     "text": [
      "Component   2 | iteration 200 | alpha   10.0 | beta  200.0 | #cyclic   7\n",
      "CAVI update number 7/10\n",
      "MAP clustering: \n",
      " [[344   0]\n",
      " [339   0]]\n"
     ]
    }
   ],
   "source": [
    "from sklearn.metrics import classification_report, confusion_matrix\n",
    "# CAVI and SVGD vars\n",
    "n_cavi_updates, steps = 10, 200\n",
    "\n",
    "# CAVI-loop\n",
    "for cavi_update in range(n_cavi_updates):\n",
    "    key, subk = random.split(key)\n",
    "    # Optimize q(Z, \\Theta)\n",
    "    vamsl.update_particle_posteriors(key=subk, steps=steps, callback_every=steps,\n",
    "                                     callback=vamsl.visualize_callback(), linear=linear)\n",
    "\n",
    "    # Update to optimal q(c) and q(\\pi)\n",
    "    vamsl.update_responsibilities_and_weights()\n",
    "    print(f'CAVI update number {cavi_update+1}/{n_cavi_updates}')\n",
    "    \n",
    "    # Print current clustering\n",
    "    order = vamsl.identify_MAP_classification_ordering(ground_truth_indicator=X_indicator)\n",
    "    y_pred = [order[k] for k in [jnp.argmax(c_i) for c_i in vamsl.get_posteriors()[2]]]\n",
    "    print('MAP clustering: \\n', confusion_matrix(X_indicator, y_pred))\n",
    "    \n",
    "# Final CAVI update with more SVGD steps to ensure annealing unto acyclic graphs\n",
    "key, subk = random.split(key)\n",
    "vamsl.update_particle_posteriors(key=subk, steps=2000, callback_every=200, callback=vamsl.visualize_callback(), linear=linear)\n",
    "vamsl.update_responsibilities_and_weights()"
   ]
  },
  {
   "cell_type": "code",
   "execution_count": 17,
   "id": "a757076f-d163-4c28-82b4-13baf65b2271",
   "metadata": {
    "tags": []
   },
   "outputs": [
    {
     "name": "stdout",
     "output_type": "stream",
     "text": [
      "Optimal order:\n",
      "[1 0]\n"
     ]
    }
   ],
   "source": [
    "# Compute optimal ordering with respect to MAP classification accuracy\n",
    "order = vamsl.identify_MAP_classification_ordering(ground_truth_indicator=X_indicator)\n",
    "print('Optimal order:')\n",
    "print(order)"
   ]
  },
  {
   "cell_type": "code",
   "execution_count": 18,
   "id": "b3c905fa-0ff9-4fa4-a864-9932b6c00920",
   "metadata": {
    "tags": []
   },
   "outputs": [
    {
     "name": "stdout",
     "output_type": "stream",
     "text": [
      "Sums of responsibilities:\n",
      "[782.2688    21.731184]\n",
      "Sum of entropy of responsibilities:\n",
      "-0.84440386\n",
      "Classification report:\n",
      "              precision    recall  f1-score   support\n",
      "\n",
      " Component 1       0.59      0.03      0.06       385\n",
      " Component 2       0.52      0.98      0.68       419\n",
      "\n",
      "    accuracy                           0.53       804\n",
      "   macro avg       0.56      0.51      0.37       804\n",
      "weighted avg       0.56      0.53      0.39       804\n",
      "\n"
     ]
    },
    {
     "data": {
      "text/plain": [
       "array([[ 13, 372],\n",
       "       [  9, 410]])"
      ]
     },
     "execution_count": 18,
     "metadata": {},
     "output_type": "execute_result"
    }
   ],
   "source": [
    "from sklearn.metrics import classification_report, confusion_matrix\n",
    "\n",
    "print('Sums of responsibilities:')\n",
    "print(jnp.sum(jnp.exp(vamsl.get_posteriors()[2]), axis=0))\n",
    "print('Sum of entropy of responsibilities:')\n",
    "print(jnp.sum(jnp.exp(vamsl.get_posteriors()[2])*vamsl.get_posteriors()[2]))\n",
    "y_true, order = X_indicator, vamsl.identify_MAP_classification_ordering(ground_truth_indicator=X_indicator)\n",
    "y_pred = [order[k] for k in [jnp.argmax(c_i) for c_i in vamsl.get_posteriors()[2]]]\n",
    "if n_components==2:\n",
    "    print('Classification report:')\n",
    "    print(classification_report(y_true=y_true, y_pred=y_pred, target_names=['Component 1', 'Component 2']))\n",
    "confusion_matrix(y_true, y_pred)"
   ]
  },
  {
   "cell_type": "code",
   "execution_count": 19,
   "id": "9556ec5b-dca4-472f-946e-6b8df732b36f",
   "metadata": {
    "tags": []
   },
   "outputs": [
    {
     "name": "stdout",
     "output_type": "stream",
     "text": [
      " Component    1 |  E-SHD: 23.5    AUROC:  0.54\n",
      " Component    2 |  E-SHD: 26.7    AUROC:  0.50\n"
     ]
    }
   ],
   "source": [
    "from vamsl.metrics import expected_shd, threshold_metrics, neg_ave_log_likelihood\n",
    "\n",
    "# Get component datasets\n",
    "datas = [X[(X_indicator==k).flatten(),:] for k in range(n_components)]\n",
    "\n",
    "# Loop over components and calculate metrics\n",
    "for k, data, q_z_k, q_theta_k in zip(range(n_components), datas, vamsl.get_posteriors()[0], vamsl.get_posteriors()[1]):\n",
    "    # Get particle distribution for component\n",
    "    q_g_k = vamsl.particle_to_g_lim(q_z_k, vamsl.get_E()[order[k]])\n",
    "    dist = vamsl.get_empirical(q_g_k, q_theta_k)\n",
    "    \n",
    "    # Calculate metrics\n",
    "    eshd = expected_shd(dist=dist, g=ground_truth_graphs[order[k]])       \n",
    "    auroc = threshold_metrics(dist=dist, g=ground_truth_graphs[order[k]])['roc_auc']\n",
    "    #negll = neg_ave_log_likelihood(dist=dist, eltwise_log_likelihood=vamsl.eltwise_component_log_likelihood_observ, x=data.x_ho)\n",
    "    \n",
    "    print(f' Component {k+1:4d} |  E-SHD: {eshd:4.1f}    AUROC: {auroc:5.2f}')#    neg. LL {negll:5.2f}')"
   ]
  },
  {
   "cell_type": "code",
   "execution_count": 20,
   "id": "d3f5c14f-2f07-4e35-931b-b033cc827c38",
   "metadata": {
    "tags": []
   },
   "outputs": [
    {
     "data": {
      "text/plain": [
       "Array([0.9717975 , 0.02820246], dtype=float32)"
      ]
     },
     "execution_count": 20,
     "metadata": {},
     "output_type": "execute_result"
    }
   ],
   "source": [
    "vamsl.get_posteriors()[3]/vamsl.get_posteriors()[3].sum()"
   ]
  },
  {
   "cell_type": "code",
   "execution_count": 21,
   "id": "98548fa2-0b85-4557-83fa-eac657b5542d",
   "metadata": {
    "tags": []
   },
   "outputs": [
    {
     "name": "stdout",
     "output_type": "stream",
     "text": [
      "neg. LL 163.91\n"
     ]
    }
   ],
   "source": [
    "# Calculate neg log liks for posterior assignment probabilities\n",
    "mixing_probs = vamsl.get_posteriors()[3]/vamsl.get_posteriors()[3].sum()\n",
    "negll = 0\n",
    "for i in range(X_lo.shape[0]):\n",
    "    temp_negll = 0\n",
    "    for k, q_z_k, q_theta_k in zip(range(n_components), vamsl.get_posteriors()[0], vamsl.get_posteriors()[1]):\n",
    "        # Get particle distribution for component\n",
    "        q_g_k = vamsl.particle_to_g_lim(q_z_k, vamsl.get_E()[k])\n",
    "        dist = vamsl.get_empirical(q_g_k, q_theta_k)\n",
    "\n",
    "        # Calculate predictive density of left-out data\n",
    "        temp_negll += mixing_probs[k] * neg_ave_log_likelihood(dist=dist, eltwise_log_likelihood=vamsl.eltwise_component_log_likelihood_observ, x=X_lo[i,:].reshape((1,-1)))\n",
    "    \n",
    "    negll += temp_negll\n",
    "    \n",
    "print(f'neg. LL {negll/X_lo.shape[0]:5.2f}')"
   ]
  },
  {
   "cell_type": "code",
   "execution_count": 22,
   "id": "6f760d8e-4c3f-429f-bc19-b9286be50214",
   "metadata": {
    "tags": []
   },
   "outputs": [
    {
     "name": "stdout",
     "output_type": "stream",
     "text": [
      "held-out responsibilities: [158.0114715  371.71396956]\n",
      "neg. LL 157.51\n"
     ]
    }
   ],
   "source": [
    "# Calculate neg log liks for MAP assignments \n",
    "negll = 0\n",
    "rs = np.zeros((X_lo.shape[0], n_components))\n",
    "for i in range(X_lo.shape[0]):\n",
    "    for k, q_z_k, q_theta_k in zip(range(n_components), vamsl.get_posteriors()[0], vamsl.get_posteriors()[1]):\n",
    "        # Get particle distribution for component\n",
    "        q_g_k = vamsl.particle_to_g_lim(q_z_k, vamsl.get_E()[k])\n",
    "        dist = vamsl.get_empirical(q_g_k, q_theta_k)\n",
    "\n",
    "        # Calculate predictive density of left-out data\n",
    "        rs[i,k] = vamsl.compute_log_responsibility(X_lo[i,:].reshape((1,-1)), dist, vamsl.get_posteriors()[3][k])\n",
    "        \n",
    "    q_g_k = vamsl.particle_to_g_lim(vamsl.get_posteriors()[0][np.argmax(rs[i])], vamsl.get_E()[np.argmax(rs[i])])\n",
    "    dist = vamsl.get_empirical(q_g_k, vamsl.get_posteriors()[1][np.argmax(rs[i])])\n",
    "    negll += neg_ave_log_likelihood(dist=dist, eltwise_log_likelihood=vamsl.eltwise_component_log_likelihood_observ, x=X_lo[i,:].reshape((1,-1)))\n",
    "    \n",
    "print('held-out responsibilities:', -rs.sum(axis=0)/X_lo.shape[0])\n",
    "print(f'neg. LL {negll/X_lo.shape[0]:5.2f}')"
   ]
  },
  {
   "cell_type": "markdown",
   "id": "a6dd2b60-0ccc-4161-8191-8d7faf820a7d",
   "metadata": {},
   "source": [
    "### STANDARDIZED"
   ]
  },
  {
   "cell_type": "code",
   "execution_count": 24,
   "id": "0f69c09d-1556-4f1c-8048-a0385eb6b5f2",
   "metadata": {
    "tags": []
   },
   "outputs": [
    {
     "name": "stdout",
     "output_type": "stream",
     "text": [
      "Optimal order:\n",
      "[0 1]\n"
     ]
    }
   ],
   "source": [
    "# Compute optimal ordering with respect to MAP classification accuracy\n",
    "order = vamsl.identify_MAP_classification_ordering(ground_truth_indicator=X_indicator)\n",
    "print('Optimal order:')\n",
    "print(order)"
   ]
  },
  {
   "cell_type": "code",
   "execution_count": 26,
   "id": "852fd1b0-b6de-4178-99e0-b8b909fded81",
   "metadata": {
    "tags": []
   },
   "outputs": [
    {
     "name": "stdout",
     "output_type": "stream",
     "text": [
      "Sums of responsibilities:\n",
      "[534.7413 274.2587]\n",
      "Sum of entropy of responsibilities:\n",
      "-54.893646\n",
      "Classification report:\n",
      "              precision    recall  f1-score   support\n",
      "\n",
      " Component 1       0.50      0.67      0.57       400\n",
      " Component 2       0.52      0.35      0.42       409\n",
      "\n",
      "    accuracy                           0.51       809\n",
      "   macro avg       0.51      0.51      0.49       809\n",
      "weighted avg       0.51      0.51      0.49       809\n",
      "\n"
     ]
    },
    {
     "data": {
      "text/plain": [
       "array([[266, 134],\n",
       "       [266, 143]])"
      ]
     },
     "execution_count": 26,
     "metadata": {},
     "output_type": "execute_result"
    }
   ],
   "source": [
    "from sklearn.metrics import classification_report, confusion_matrix\n",
    "\n",
    "print('Sums of responsibilities:')\n",
    "print(jnp.sum(jnp.exp(vamsl.get_posteriors()[2]), axis=0))\n",
    "print('Sum of entropy of responsibilities:')\n",
    "print(jnp.sum(jnp.exp(vamsl.get_posteriors()[2])*vamsl.get_posteriors()[2]))\n",
    "y_true, order = X_indicator, vamsl.identify_MAP_classification_ordering(ground_truth_indicator=X_indicator)\n",
    "y_pred = [order[k] for k in [jnp.argmax(c_i) for c_i in vamsl.get_posteriors()[2]]]\n",
    "if n_components==2:\n",
    "    print('Classification report:')\n",
    "    print(classification_report(y_true=y_true, y_pred=y_pred, target_names=['Component 1', 'Component 2']))\n",
    "confusion_matrix(y_true, y_pred)"
   ]
  },
  {
   "cell_type": "code",
   "execution_count": 28,
   "id": "b7592924-49cd-45be-85b5-d58b4c53b612",
   "metadata": {
    "tags": []
   },
   "outputs": [
    {
     "name": "stdout",
     "output_type": "stream",
     "text": [
      " Component    1 |  E-SHD: 21.8    AUROC:  0.60\n",
      " Component    2 |  E-SHD: 25.3    AUROC:  0.53\n"
     ]
    }
   ],
   "source": [
    "from vamsl.metrics import expected_shd, threshold_metrics, neg_ave_log_likelihood\n",
    "\n",
    "# Get component datasets\n",
    "datas = [X[(X_indicator==k).flatten(),:] for k in range(n_components)]\n",
    "\n",
    "# Loop over components and calculate metrics\n",
    "for k, data, q_z_k, q_theta_k in zip(range(n_components), datas, vamsl.get_posteriors()[0], vamsl.get_posteriors()[1]):\n",
    "    # Get particle distribution for component\n",
    "    q_g_k = vamsl.particle_to_g_lim(q_z_k, vamsl.get_E()[order[k]])\n",
    "    dist = vamsl.get_empirical(q_g_k, q_theta_k)\n",
    "    \n",
    "    # Calculate metrics\n",
    "    eshd = expected_shd(dist=dist, g=ground_truth_graphs[order[k]])       \n",
    "    auroc = threshold_metrics(dist=dist, g=ground_truth_graphs[order[k]])['roc_auc']\n",
    "    #negll = neg_ave_log_likelihood(dist=dist, eltwise_log_likelihood=vamsl.eltwise_component_log_likelihood_observ, x=data.x_ho)\n",
    "    \n",
    "    print(f' Component {k+1:4d} |  E-SHD: {eshd:4.1f}    AUROC: {auroc:5.2f}')#    neg. LL {negll:5.2f}')"
   ]
  },
  {
   "cell_type": "markdown",
   "id": "e45ed1fb-4cfe-4989-ab8e-9d8bf6899aaf",
   "metadata": {},
   "source": [
    "### Predictive performance"
   ]
  },
  {
   "cell_type": "code",
   "execution_count": 29,
   "id": "2d128601-62d6-450b-a068-e594493943a0",
   "metadata": {
    "tags": []
   },
   "outputs": [
    {
     "data": {
      "text/plain": [
       "Array([0.6605935 , 0.33940652], dtype=float32)"
      ]
     },
     "execution_count": 29,
     "metadata": {},
     "output_type": "execute_result"
    }
   ],
   "source": [
    "vamsl.get_posteriors()[3]/vamsl.get_posteriors()[3].sum()"
   ]
  },
  {
   "cell_type": "code",
   "execution_count": 30,
   "id": "5f3a58b0-9d7e-4a57-8c41-3ce9a1a3d846",
   "metadata": {
    "tags": []
   },
   "outputs": [
    {
     "name": "stdout",
     "output_type": "stream",
     "text": [
      "neg. LL 59.43\n"
     ]
    }
   ],
   "source": [
    "# Calculate neg log liks for posterior assignment probabilities\n",
    "mixing_probs = vamsl.get_posteriors()[3]/vamsl.get_posteriors()[3].sum()\n",
    "negll = 0\n",
    "for i in range(X_lo.shape[0]):\n",
    "    temp_negll = 0\n",
    "    for k, q_z_k, q_theta_k in zip(range(n_components), vamsl.get_posteriors()[0], vamsl.get_posteriors()[1]):\n",
    "        # Get particle distribution for component\n",
    "        q_g_k = vamsl.particle_to_g_lim(q_z_k, vamsl.get_E()[k])\n",
    "        dist = vamsl.get_empirical(q_g_k, q_theta_k)\n",
    "\n",
    "        # Calculate predictive density of left-out data\n",
    "        temp_negll += mixing_probs[k] * neg_ave_log_likelihood(dist=dist, eltwise_log_likelihood=vamsl.eltwise_component_log_likelihood_observ, x=X_lo[i,:].reshape((1,-1)))\n",
    "    \n",
    "    negll += temp_negll\n",
    "    \n",
    "print(f'neg. LL {negll/X_lo.shape[0]:5.2f}')"
   ]
  },
  {
   "cell_type": "code",
   "execution_count": 31,
   "id": "af2fc105-5d76-44f1-a458-854c79bfd82c",
   "metadata": {
    "tags": []
   },
   "outputs": [
    {
     "name": "stdout",
     "output_type": "stream",
     "text": [
      "held-out responsibilities: [57.43323966 65.20636098]\n",
      "neg. LL 53.90\n"
     ]
    }
   ],
   "source": [
    "# Calculate neg log liks for MAP assignments \n",
    "negll = 0\n",
    "rs = np.zeros((X_lo.shape[0], n_components))\n",
    "for i in range(X_lo.shape[0]):\n",
    "    for k, q_z_k, q_theta_k in zip(range(n_components), vamsl.get_posteriors()[0], vamsl.get_posteriors()[1]):\n",
    "        # Get particle distribution for component\n",
    "        q_g_k = vamsl.particle_to_g_lim(q_z_k, vamsl.get_E()[k])\n",
    "        dist = vamsl.get_empirical(q_g_k, q_theta_k)\n",
    "\n",
    "        # Calculate predictive density of left-out data\n",
    "        rs[i,k] = vamsl.compute_log_responsibility(X_lo[i,:].reshape((1,-1)), dist, vamsl.get_posteriors()[3][k])\n",
    "        \n",
    "    q_g_k = vamsl.particle_to_g_lim(vamsl.get_posteriors()[0][np.argmax(rs[i])], vamsl.get_E()[np.argmax(rs[i])])\n",
    "    dist = vamsl.get_empirical(q_g_k, vamsl.get_posteriors()[1][np.argmax(rs[i])])\n",
    "    negll += neg_ave_log_likelihood(dist=dist, eltwise_log_likelihood=vamsl.eltwise_component_log_likelihood_observ, x=X_lo[i,:].reshape((1,-1)))\n",
    "    \n",
    "print('held-out responsibilities:', -rs.sum(axis=0)/X_lo.shape[0])\n",
    "print(f'neg. LL {negll/X_lo.shape[0]:5.2f}')"
   ]
  },
  {
   "cell_type": "markdown",
   "id": "9c4b3545-6bca-491e-8144-918b4d8b0deb",
   "metadata": {},
   "source": [
    "### Performance of DiBS"
   ]
  },
  {
   "cell_type": "code",
   "execution_count": null,
   "id": "cc527689-d544-40d8-89a8-123c8b5cc30d",
   "metadata": {
    "tags": []
   },
   "outputs": [],
   "source": [
    "from vamsl.metrics import expected_shd, threshold_metrics, neg_ave_log_likelihood\n",
    "\n",
    "# Get component datasets\n",
    "datas = [X[(indicator==k).flatten(),:] for k in range(n_components)]\n",
    "\n",
    "# Loop over components and calculate metrics\n",
    "for k, data, q_z_k, q_theta_k in zip(range(n_components), datas, vamsl.get_posteriors()[0], vamsl.get_posteriors()[1]):\n",
    "    # Get particle distribution for component\n",
    "    q_g_k = vamsl.particle_to_g_lim(q_z_k, vamsl.get_E()[order[k]])\n",
    "    dist = vamsl.get_empirical(q_g_k, q_theta_k)\n",
    "    \n",
    "    # Calculate metrics\n",
    "    eshd = expected_shd(dist=dist, g=ground_truth_graphs[order[k]])       \n",
    "    auroc = threshold_metrics(dist=dist, g=ground_truth_graphs[order[k]])['roc_auc']\n",
    "    #negll = neg_ave_log_likelihood(dist=dist, eltwise_log_likelihood=vamsl.eltwise_component_log_likelihood_observ, x=data.x_ho)\n",
    "    \n",
    "    print(f' Component {k+1:4d} |  E-SHD: {eshd:4.1f}    AUROC: {auroc:5.2f}')#    neg. LL {negll:5.2f}')"
   ]
  },
  {
   "cell_type": "markdown",
   "id": "fcdd24a0-8675-4efd-b05f-69008f94fa1f",
   "metadata": {},
   "source": [
    "### Comparison with GMM"
   ]
  },
  {
   "cell_type": "code",
   "execution_count": null,
   "id": "5c68cc71-9ec0-436f-a752-32f1d63ce6e0",
   "metadata": {},
   "outputs": [],
   "source": [
    "import numpy as np\n",
    "from sklearn.mixture import BayesianGaussianMixture\n",
    "\n",
    "labels = BayesianGaussianMixture(n_components=2, random_state=42).fit_predict(X)\n",
    "print(\"Unstandardized clustering:\\n\", confusion_matrix(indicator, labels))\n",
    "\n",
    "labels = BayesianGaussianMixture(n_components=2, random_state=42).fit_predict(jax.nn.standardize(X, axis=0))\n",
    "print(\"Standardized clustering:\\n\", confusion_matrix(indicator, labels))"
   ]
  }
 ],
 "metadata": {
  "kernelspec": {
   "display_name": "Python 3",
   "language": "python",
   "name": "python3"
  },
  "language_info": {
   "codemirror_mode": {
    "name": "ipython",
    "version": 3
   },
   "file_extension": ".py",
   "mimetype": "text/x-python",
   "name": "python",
   "nbconvert_exporter": "python",
   "pygments_lexer": "ipython3",
   "version": "3.10.12"
  }
 },
 "nbformat": 4,
 "nbformat_minor": 5
}
